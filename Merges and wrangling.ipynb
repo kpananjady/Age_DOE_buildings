{
 "cells": [
  {
   "cell_type": "markdown",
   "metadata": {},
   "source": [
    "# What this file does"
   ]
  },
  {
   "cell_type": "markdown",
   "metadata": {},
   "source": [
    "I want to examine the role of the age of a building on how accessible it is. This file wrangles the data for that analysis to continue in a subsequent jupyter notebook. The final product — used for mapping, correlation analysis and regression — year_built_school.csv. It contains the year built for most of the rated building in the DOE dataset, in addition to other information from the pluto dataset (subsequent alterations, historical district etc)\n",
    "\n",
    "I work with three datasets in this file:\n",
    "\n",
    "1. 2017-2018 School_Locations.csv (https://data.cityofnewyork.us/Education/2017-2018-School-Locations/p6h4-mpyy), because I want to combine DOE Building Codes with Borough Block and Lot codes\n",
    "2. School-NYC-Accessibility-geolocated.csv (https://github.com/kpananjady/Accessibility-NYC-Schools/blob/master/School-NYC-Accessibility-geolocated.csv), because I'm only interested in the codes that have been rated already by the DOE\n",
    "3. pluto_20v1.csv (https://www1.nyc.gov/site/planning/data-maps/open-data/dwn-pluto-mappluto.page), to get the year buildings were built and whether or not they're landmarks/located in historic districts\n",
    "\n",
    "\n",
    "I start by combining school locations and accessibility ratings on DOE building codes, and then combine the resulting file on the Pluto database on borough, block and lot codes. This gives me the year built for most of the rated building in the DOE dataset. \n",
    "\n",
    "I then try to get year built for every single school location — whether or not they've been rated so far. I plot the distribution of construction years for all buildings, and then another histogram for all"
   ]
  },
  {
   "cell_type": "markdown",
   "metadata": {},
   "source": [
    "# Findings"
   ]
  },
  {
   "cell_type": "markdown",
   "metadata": {},
   "source": [
    "For the most part, this worked successfully — I lost 20 of the buildings in the Ratings database when I combined it with the locations file with the DOE building codes. (645-625-20) I then lose 9 more buildings when I combine it with Pluto database on borough, block and lot codes, leaving me with 616 buildings perfectly combined across all three datasets. That's 95 percent of rated schools.\n",
    "\n",
    "If you have ideas about how to go about finding the 29 buildings in the original accessibility dataset that I couldn't combine, let me know.\n",
    "\n",
    "It's interesting to see just how few — relatively speaking — schools were constructed after the 1991 Americans with Disabilities Act was put in place in 1992."
   ]
  },
  {
   "cell_type": "code",
   "execution_count": null,
   "metadata": {},
   "outputs": [],
   "source": [
    "#import pandas"
   ]
  },
  {
   "cell_type": "code",
   "execution_count": 186,
   "metadata": {},
   "outputs": [],
   "source": [
    "import pandas as pd\n",
    "import matplotlib.pyplot as plt"
   ]
  },
  {
   "cell_type": "code",
   "execution_count": 111,
   "metadata": {},
   "outputs": [
    {
     "name": "stdout",
     "output_type": "stream",
     "text": [
      "2017_-_2018_School_Locations.csv        building_code_bbl.csv\r\n",
      "Joins.ipynb                             pluto_20v1.csv\r\n",
      "School-NYC-Accessibility-geolocated.csv year_built_school.csv\r\n",
      "age-doe.qgz\r\n"
     ]
    }
   ],
   "source": [
    "!ls"
   ]
  },
  {
   "cell_type": "markdown",
   "metadata": {},
   "source": [
    "# School_Locations.csv"
   ]
  },
  {
   "cell_type": "code",
   "execution_count": null,
   "metadata": {},
   "outputs": [],
   "source": [
    "#read in; from https://data.cityofnewyork.us/Education/2017-2018-School-Locations/p6h4-mpyy"
   ]
  },
  {
   "cell_type": "code",
   "execution_count": 112,
   "metadata": {},
   "outputs": [],
   "source": [
    "df_school_locs = pd.read_csv('2017_-_2018_School_Locations.csv')"
   ]
  },
  {
   "cell_type": "code",
   "execution_count": null,
   "metadata": {},
   "outputs": [],
   "source": [
    "#fields ; intersted in building code for merges"
   ]
  },
  {
   "cell_type": "code",
   "execution_count": 113,
   "metadata": {},
   "outputs": [
    {
     "data": {
      "text/plain": [
       "FISCAL_YEAR                            int64\n",
       "ATS SYSTEM CODE                       object\n",
       "LOCATION_CODE                         object\n",
       "LOCATION_NAME                         object\n",
       "BEDS NUMBER                            int64\n",
       "MANAGED_BY_NAME                       object\n",
       "LOCATION_TYPE_DESCRIPTION             object\n",
       "LOCATION_CATEGORY_DESCRIPTION         object\n",
       "GRADES_TEXT                           object\n",
       "GRADES_FINAL_TEXT                     object\n",
       "OPEN_DATE                             object\n",
       "STATUS_DESCRIPTIONS                   object\n",
       "PRIMARY_BUILDING_CODE                 object\n",
       "PRIMARY_ADDRESS_LINE_1                object\n",
       "STATE_CODE                            object\n",
       "X_COORDINATE                         float64\n",
       "Y_COORDINATE                         float64\n",
       "COMMUNITY_DISTRICT                     int64\n",
       "COUNCIL_DISTRICT                       int64\n",
       "CENSUS_TRACT                          object\n",
       "BOROUGH_BLOCK_LOT                      int64\n",
       "NTA                                   object\n",
       "NTA_NAME                              object\n",
       "PRINCIPAL_NAME                        object\n",
       "PRINCIPAL_TITLE                       object\n",
       "PRINCIPAL_PHONE_NUMBER                object\n",
       "FAX_NUMBER                            object\n",
       "GEOGRAPHICAL_DISTRICT_CODE             int64\n",
       "ADMIN_DISTRICT_LOCATION_CODE          object\n",
       "ADMINISTRATIVE_DISTRICT_NAME          object\n",
       "COMMUNITY_SCHOOL_SUP_NAME             object\n",
       "FIELD_SUPPORT_CENTER_NAME             object\n",
       "FIELD_SUPPORT_CENTER_LEADER_NAME      object\n",
       "SCHOOL_SUPPORT_TEAM_NAME              object\n",
       "SCHOOL_SUPPORT_TEAM_LEADER_NAME      float64\n",
       "HIGHSCHOOL_NETWORK_LOCATION_CODE      object\n",
       "HIGHSCHOOL_NETWORK_NAME               object\n",
       "HIGHSCHOOL_NETWORK_SUPERINTENDENT     object\n",
       "Location 1                            object\n",
       "dtype: object"
      ]
     },
     "execution_count": 113,
     "metadata": {},
     "output_type": "execute_result"
    }
   ],
   "source": [
    "df_school_locs.dtypes"
   ]
  },
  {
   "cell_type": "code",
   "execution_count": null,
   "metadata": {},
   "outputs": [],
   "source": [
    "#grab primary building code for merge with ratings and Borough Block Lot for merge w Pluto"
   ]
  },
  {
   "cell_type": "code",
   "execution_count": 114,
   "metadata": {},
   "outputs": [
    {
     "data": {
      "text/html": [
       "<div>\n",
       "<style scoped>\n",
       "    .dataframe tbody tr th:only-of-type {\n",
       "        vertical-align: middle;\n",
       "    }\n",
       "\n",
       "    .dataframe tbody tr th {\n",
       "        vertical-align: top;\n",
       "    }\n",
       "\n",
       "    .dataframe thead th {\n",
       "        text-align: right;\n",
       "    }\n",
       "</style>\n",
       "<table border=\"1\" class=\"dataframe\">\n",
       "  <thead>\n",
       "    <tr style=\"text-align: right;\">\n",
       "      <th></th>\n",
       "      <th>PRIMARY_BUILDING_CODE</th>\n",
       "      <th>BOROUGH_BLOCK_LOT</th>\n",
       "      <th>CENSUS_TRACT</th>\n",
       "    </tr>\n",
       "  </thead>\n",
       "  <tbody>\n",
       "    <tr>\n",
       "      <td>0</td>\n",
       "      <td>M015</td>\n",
       "      <td>1003740020</td>\n",
       "      <td>2601</td>\n",
       "    </tr>\n",
       "    <tr>\n",
       "      <td>1</td>\n",
       "      <td>M019</td>\n",
       "      <td>1004530034</td>\n",
       "      <td>4000</td>\n",
       "    </tr>\n",
       "    <tr>\n",
       "      <td>2</td>\n",
       "      <td>M020</td>\n",
       "      <td>1003550001</td>\n",
       "      <td>3001</td>\n",
       "    </tr>\n",
       "    <tr>\n",
       "      <td>3</td>\n",
       "      <td>M034</td>\n",
       "      <td>1003810038</td>\n",
       "      <td>2800</td>\n",
       "    </tr>\n",
       "    <tr>\n",
       "      <td>4</td>\n",
       "      <td>M063</td>\n",
       "      <td>1004310014</td>\n",
       "      <td>3200</td>\n",
       "    </tr>\n",
       "    <tr>\n",
       "      <td>...</td>\n",
       "      <td>...</td>\n",
       "      <td>...</td>\n",
       "      <td>...</td>\n",
       "    </tr>\n",
       "    <tr>\n",
       "      <td>1818</td>\n",
       "      <td>XABC</td>\n",
       "      <td>2028560029</td>\n",
       "      <td>21900</td>\n",
       "    </tr>\n",
       "    <tr>\n",
       "      <td>1819</td>\n",
       "      <td>X256</td>\n",
       "      <td>2023730014</td>\n",
       "      <td>14500</td>\n",
       "    </tr>\n",
       "    <tr>\n",
       "      <td>1820</td>\n",
       "      <td>X717</td>\n",
       "      <td>2028950068</td>\n",
       "      <td>16900</td>\n",
       "    </tr>\n",
       "    <tr>\n",
       "      <td>1821</td>\n",
       "      <td>X937</td>\n",
       "      <td>2049160001</td>\n",
       "      <td>48400</td>\n",
       "    </tr>\n",
       "    <tr>\n",
       "      <td>1822</td>\n",
       "      <td>XAFM</td>\n",
       "      <td>2027550125</td>\n",
       "      <td>11502</td>\n",
       "    </tr>\n",
       "  </tbody>\n",
       "</table>\n",
       "<p>1823 rows × 3 columns</p>\n",
       "</div>"
      ],
      "text/plain": [
       "     PRIMARY_BUILDING_CODE  BOROUGH_BLOCK_LOT CENSUS_TRACT\n",
       "0                     M015         1003740020         2601\n",
       "1                     M019         1004530034         4000\n",
       "2                     M020         1003550001         3001\n",
       "3                     M034         1003810038         2800\n",
       "4                     M063         1004310014         3200\n",
       "...                    ...                ...          ...\n",
       "1818                  XABC         2028560029        21900\n",
       "1819                  X256         2023730014        14500\n",
       "1820                  X717         2028950068        16900\n",
       "1821                  X937         2049160001        48400\n",
       "1822                  XAFM         2027550125        11502\n",
       "\n",
       "[1823 rows x 3 columns]"
      ]
     },
     "execution_count": 114,
     "metadata": {},
     "output_type": "execute_result"
    }
   ],
   "source": [
    "df_school_locs[['PRIMARY_BUILDING_CODE', 'BOROUGH_BLOCK_LOT','CENSUS_TRACT']]"
   ]
  },
  {
   "cell_type": "code",
   "execution_count": 115,
   "metadata": {},
   "outputs": [],
   "source": [
    "#buildings"
   ]
  },
  {
   "cell_type": "code",
   "execution_count": 116,
   "metadata": {},
   "outputs": [
    {
     "data": {
      "text/plain": [
       "1307"
      ]
     },
     "execution_count": 116,
     "metadata": {},
     "output_type": "execute_result"
    }
   ],
   "source": [
    "len(df_school_locs['PRIMARY_BUILDING_CODE'].unique())"
   ]
  },
  {
   "cell_type": "code",
   "execution_count": 117,
   "metadata": {},
   "outputs": [],
   "source": [
    "#school codes"
   ]
  },
  {
   "cell_type": "code",
   "execution_count": 118,
   "metadata": {},
   "outputs": [
    {
     "data": {
      "text/plain": [
       "1823"
      ]
     },
     "execution_count": 118,
     "metadata": {},
     "output_type": "execute_result"
    }
   ],
   "source": [
    "len(df_school_locs['LOCATION_CODE'].unique())"
   ]
  },
  {
   "cell_type": "code",
   "execution_count": null,
   "metadata": {},
   "outputs": [],
   "source": [
    "#all I want is primary building codes and the borough and lot nos; I also don't want the building codes to appear twice bc that esses up my merge"
   ]
  },
  {
   "cell_type": "code",
   "execution_count": 119,
   "metadata": {},
   "outputs": [],
   "source": [
    "df_join_1 = df_school_locs.groupby('PRIMARY_BUILDING_CODE')['BOROUGH_BLOCK_LOT'].value_counts().to_frame().drop(['BOROUGH_BLOCK_LOT'], axis=1)"
   ]
  },
  {
   "cell_type": "code",
   "execution_count": 120,
   "metadata": {},
   "outputs": [
    {
     "name": "stdout",
     "output_type": "stream",
     "text": [
      "2017_-_2018_School_Locations.csv        building_code_bbl.csv\r\n",
      "Joins.ipynb                             pluto_20v1.csv\r\n",
      "School-NYC-Accessibility-geolocated.csv year_built_school.csv\r\n",
      "age-doe.qgz\r\n"
     ]
    }
   ],
   "source": [
    "!ls"
   ]
  },
  {
   "cell_type": "code",
   "execution_count": null,
   "metadata": {},
   "outputs": [],
   "source": [
    "df_join_1.to_csv('building_code_bbl.csv')"
   ]
  },
  {
   "cell_type": "code",
   "execution_count": null,
   "metadata": {},
   "outputs": [],
   "source": [
    "df_final = pd.read_csv('building_code_bbl.csv')"
   ]
  },
  {
   "cell_type": "markdown",
   "metadata": {},
   "source": [
    "# School-NYC-Accessibility-geolocated.csv"
   ]
  },
  {
   "cell_type": "code",
   "execution_count": null,
   "metadata": {},
   "outputs": [],
   "source": [
    "# read in file; this is the geolocated version I created through my Accessibilty analysis https://github.com/kpananjady/Accessibility-NYC-Schools/blob/master/School-NYC-Accessibility-geolocated.csv"
   ]
  },
  {
   "cell_type": "code",
   "execution_count": 121,
   "metadata": {},
   "outputs": [],
   "source": [
    "df_gelocated= pd.read_csv('School-NYC-Accessibility-geolocated.csv')"
   ]
  },
  {
   "cell_type": "code",
   "execution_count": null,
   "metadata": {},
   "outputs": [],
   "source": [
    "#fields"
   ]
  },
  {
   "cell_type": "code",
   "execution_count": 122,
   "metadata": {},
   "outputs": [
    {
     "data": {
      "text/plain": [
       "Unnamed: 0                     int64\n",
       "Geographic\\n  District         int64\n",
       "Borough                       object\n",
       "Building Code                 object\n",
       "School DBN                    object\n",
       "Location Code                 object\n",
       "School Name                   object\n",
       "Grades Served                 object\n",
       "Pre-K                         object\n",
       "Address                       object\n",
       "BAP Rating                    object\n",
       "Accessibility Description     object\n",
       "Rating                       float64\n",
       "Address_Full                  object\n",
       "Lat                          float64\n",
       "Lng                          float64\n",
       "dtype: object"
      ]
     },
     "execution_count": 122,
     "metadata": {},
     "output_type": "execute_result"
    }
   ],
   "source": [
    "df_gelocated.dtypes"
   ]
  },
  {
   "cell_type": "code",
   "execution_count": null,
   "metadata": {},
   "outputs": [],
   "source": [
    "#I'm going to keep codes for join and ratings for regression analysis; lat and lng to make sure I plot in the same exact place"
   ]
  },
  {
   "cell_type": "code",
   "execution_count": 123,
   "metadata": {},
   "outputs": [],
   "source": [
    "df_rated_schools = df_gelocated[['Building Code','Lat','Lng','Rating']]"
   ]
  },
  {
   "cell_type": "code",
   "execution_count": null,
   "metadata": {},
   "outputs": [],
   "source": [
    "#quick view "
   ]
  },
  {
   "cell_type": "code",
   "execution_count": 124,
   "metadata": {},
   "outputs": [
    {
     "data": {
      "text/html": [
       "<div>\n",
       "<style scoped>\n",
       "    .dataframe tbody tr th:only-of-type {\n",
       "        vertical-align: middle;\n",
       "    }\n",
       "\n",
       "    .dataframe tbody tr th {\n",
       "        vertical-align: top;\n",
       "    }\n",
       "\n",
       "    .dataframe thead th {\n",
       "        text-align: right;\n",
       "    }\n",
       "</style>\n",
       "<table border=\"1\" class=\"dataframe\">\n",
       "  <thead>\n",
       "    <tr style=\"text-align: right;\">\n",
       "      <th></th>\n",
       "      <th>Building Code</th>\n",
       "      <th>Lat</th>\n",
       "      <th>Lng</th>\n",
       "      <th>Rating</th>\n",
       "    </tr>\n",
       "  </thead>\n",
       "  <tbody>\n",
       "    <tr>\n",
       "      <td>0</td>\n",
       "      <td>X040</td>\n",
       "      <td>40.809141</td>\n",
       "      <td>-73.920138</td>\n",
       "      <td>1.0</td>\n",
       "    </tr>\n",
       "    <tr>\n",
       "      <td>1</td>\n",
       "      <td>X040</td>\n",
       "      <td>40.809141</td>\n",
       "      <td>-73.920138</td>\n",
       "      <td>1.0</td>\n",
       "    </tr>\n",
       "    <tr>\n",
       "      <td>2</td>\n",
       "      <td>X040</td>\n",
       "      <td>40.809141</td>\n",
       "      <td>-73.920138</td>\n",
       "      <td>1.0</td>\n",
       "    </tr>\n",
       "    <tr>\n",
       "      <td>3</td>\n",
       "      <td>X065</td>\n",
       "      <td>40.807662</td>\n",
       "      <td>-73.912743</td>\n",
       "      <td>6.0</td>\n",
       "    </tr>\n",
       "    <tr>\n",
       "      <td>4</td>\n",
       "      <td>X065</td>\n",
       "      <td>40.807662</td>\n",
       "      <td>-73.912743</td>\n",
       "      <td>6.0</td>\n",
       "    </tr>\n",
       "    <tr>\n",
       "      <td>...</td>\n",
       "      <td>...</td>\n",
       "      <td>...</td>\n",
       "      <td>...</td>\n",
       "      <td>...</td>\n",
       "    </tr>\n",
       "    <tr>\n",
       "      <td>1196</td>\n",
       "      <td>R861</td>\n",
       "      <td>40.620452</td>\n",
       "      <td>-74.164416</td>\n",
       "      <td>10.0</td>\n",
       "    </tr>\n",
       "    <tr>\n",
       "      <td>1197</td>\n",
       "      <td>R861</td>\n",
       "      <td>40.620452</td>\n",
       "      <td>-74.164416</td>\n",
       "      <td>10.0</td>\n",
       "    </tr>\n",
       "    <tr>\n",
       "      <td>1198</td>\n",
       "      <td>R880</td>\n",
       "      <td>40.608634</td>\n",
       "      <td>-74.105093</td>\n",
       "      <td>4.0</td>\n",
       "    </tr>\n",
       "    <tr>\n",
       "      <td>1199</td>\n",
       "      <td>R880</td>\n",
       "      <td>40.608634</td>\n",
       "      <td>-74.105093</td>\n",
       "      <td>4.0</td>\n",
       "    </tr>\n",
       "    <tr>\n",
       "      <td>1200</td>\n",
       "      <td>R880</td>\n",
       "      <td>40.608634</td>\n",
       "      <td>-74.105093</td>\n",
       "      <td>4.0</td>\n",
       "    </tr>\n",
       "  </tbody>\n",
       "</table>\n",
       "<p>1201 rows × 4 columns</p>\n",
       "</div>"
      ],
      "text/plain": [
       "     Building Code        Lat        Lng  Rating\n",
       "0             X040  40.809141 -73.920138     1.0\n",
       "1             X040  40.809141 -73.920138     1.0\n",
       "2             X040  40.809141 -73.920138     1.0\n",
       "3             X065  40.807662 -73.912743     6.0\n",
       "4             X065  40.807662 -73.912743     6.0\n",
       "...            ...        ...        ...     ...\n",
       "1196          R861  40.620452 -74.164416    10.0\n",
       "1197          R861  40.620452 -74.164416    10.0\n",
       "1198          R880  40.608634 -74.105093     4.0\n",
       "1199          R880  40.608634 -74.105093     4.0\n",
       "1200          R880  40.608634 -74.105093     4.0\n",
       "\n",
       "[1201 rows x 4 columns]"
      ]
     },
     "execution_count": 124,
     "metadata": {},
     "output_type": "execute_result"
    }
   ],
   "source": [
    "df_rated_schools"
   ]
  },
  {
   "cell_type": "code",
   "execution_count": null,
   "metadata": {},
   "outputs": [],
   "source": [
    "#write over df final w ratigns, and all the "
   ]
  },
  {
   "cell_type": "code",
   "execution_count": 145,
   "metadata": {},
   "outputs": [],
   "source": [
    "df_final = df_rated_schools.merge(df_final, left_on='Building Code', right_on='PRIMARY_BUILDING_CODE')"
   ]
  },
  {
   "cell_type": "code",
   "execution_count": 146,
   "metadata": {},
   "outputs": [
    {
     "data": {
      "text/html": [
       "<div>\n",
       "<style scoped>\n",
       "    .dataframe tbody tr th:only-of-type {\n",
       "        vertical-align: middle;\n",
       "    }\n",
       "\n",
       "    .dataframe tbody tr th {\n",
       "        vertical-align: top;\n",
       "    }\n",
       "\n",
       "    .dataframe thead th {\n",
       "        text-align: right;\n",
       "    }\n",
       "</style>\n",
       "<table border=\"1\" class=\"dataframe\">\n",
       "  <thead>\n",
       "    <tr style=\"text-align: right;\">\n",
       "      <th></th>\n",
       "      <th>Building Code</th>\n",
       "      <th>Lat</th>\n",
       "      <th>Lng</th>\n",
       "      <th>Rating</th>\n",
       "      <th>PRIMARY_BUILDING_CODE</th>\n",
       "      <th>BOROUGH_BLOCK_LOT</th>\n",
       "    </tr>\n",
       "  </thead>\n",
       "  <tbody>\n",
       "    <tr>\n",
       "      <td>0</td>\n",
       "      <td>X040</td>\n",
       "      <td>40.809141</td>\n",
       "      <td>-73.920138</td>\n",
       "      <td>1.0</td>\n",
       "      <td>X040</td>\n",
       "      <td>2022840034</td>\n",
       "    </tr>\n",
       "    <tr>\n",
       "      <td>1</td>\n",
       "      <td>X040</td>\n",
       "      <td>40.809141</td>\n",
       "      <td>-73.920138</td>\n",
       "      <td>1.0</td>\n",
       "      <td>X040</td>\n",
       "      <td>2022840034</td>\n",
       "    </tr>\n",
       "    <tr>\n",
       "      <td>2</td>\n",
       "      <td>X040</td>\n",
       "      <td>40.809141</td>\n",
       "      <td>-73.920138</td>\n",
       "      <td>1.0</td>\n",
       "      <td>X040</td>\n",
       "      <td>2022840034</td>\n",
       "    </tr>\n",
       "    <tr>\n",
       "      <td>3</td>\n",
       "      <td>X065</td>\n",
       "      <td>40.807662</td>\n",
       "      <td>-73.912743</td>\n",
       "      <td>6.0</td>\n",
       "      <td>X065</td>\n",
       "      <td>2025710001</td>\n",
       "    </tr>\n",
       "    <tr>\n",
       "      <td>4</td>\n",
       "      <td>X065</td>\n",
       "      <td>40.807662</td>\n",
       "      <td>-73.912743</td>\n",
       "      <td>6.0</td>\n",
       "      <td>X065</td>\n",
       "      <td>2025710001</td>\n",
       "    </tr>\n",
       "    <tr>\n",
       "      <td>...</td>\n",
       "      <td>...</td>\n",
       "      <td>...</td>\n",
       "      <td>...</td>\n",
       "      <td>...</td>\n",
       "      <td>...</td>\n",
       "      <td>...</td>\n",
       "    </tr>\n",
       "    <tr>\n",
       "      <td>1172</td>\n",
       "      <td>R861</td>\n",
       "      <td>40.620452</td>\n",
       "      <td>-74.164416</td>\n",
       "      <td>10.0</td>\n",
       "      <td>R861</td>\n",
       "      <td>5016530001</td>\n",
       "    </tr>\n",
       "    <tr>\n",
       "      <td>1173</td>\n",
       "      <td>R861</td>\n",
       "      <td>40.620452</td>\n",
       "      <td>-74.164416</td>\n",
       "      <td>10.0</td>\n",
       "      <td>R861</td>\n",
       "      <td>5016530001</td>\n",
       "    </tr>\n",
       "    <tr>\n",
       "      <td>1174</td>\n",
       "      <td>R880</td>\n",
       "      <td>40.608634</td>\n",
       "      <td>-74.105093</td>\n",
       "      <td>4.0</td>\n",
       "      <td>R880</td>\n",
       "      <td>5006830001</td>\n",
       "    </tr>\n",
       "    <tr>\n",
       "      <td>1175</td>\n",
       "      <td>R880</td>\n",
       "      <td>40.608634</td>\n",
       "      <td>-74.105093</td>\n",
       "      <td>4.0</td>\n",
       "      <td>R880</td>\n",
       "      <td>5006830001</td>\n",
       "    </tr>\n",
       "    <tr>\n",
       "      <td>1176</td>\n",
       "      <td>R880</td>\n",
       "      <td>40.608634</td>\n",
       "      <td>-74.105093</td>\n",
       "      <td>4.0</td>\n",
       "      <td>R880</td>\n",
       "      <td>5006830001</td>\n",
       "    </tr>\n",
       "  </tbody>\n",
       "</table>\n",
       "<p>1177 rows × 6 columns</p>\n",
       "</div>"
      ],
      "text/plain": [
       "     Building Code        Lat        Lng  Rating PRIMARY_BUILDING_CODE  \\\n",
       "0             X040  40.809141 -73.920138     1.0                  X040   \n",
       "1             X040  40.809141 -73.920138     1.0                  X040   \n",
       "2             X040  40.809141 -73.920138     1.0                  X040   \n",
       "3             X065  40.807662 -73.912743     6.0                  X065   \n",
       "4             X065  40.807662 -73.912743     6.0                  X065   \n",
       "...            ...        ...        ...     ...                   ...   \n",
       "1172          R861  40.620452 -74.164416    10.0                  R861   \n",
       "1173          R861  40.620452 -74.164416    10.0                  R861   \n",
       "1174          R880  40.608634 -74.105093     4.0                  R880   \n",
       "1175          R880  40.608634 -74.105093     4.0                  R880   \n",
       "1176          R880  40.608634 -74.105093     4.0                  R880   \n",
       "\n",
       "      BOROUGH_BLOCK_LOT  \n",
       "0            2022840034  \n",
       "1            2022840034  \n",
       "2            2022840034  \n",
       "3            2025710001  \n",
       "4            2025710001  \n",
       "...                 ...  \n",
       "1172         5016530001  \n",
       "1173         5016530001  \n",
       "1174         5006830001  \n",
       "1175         5006830001  \n",
       "1176         5006830001  \n",
       "\n",
       "[1177 rows x 6 columns]"
      ]
     },
     "execution_count": 146,
     "metadata": {},
     "output_type": "execute_result"
    }
   ],
   "source": [
    "df_final"
   ]
  },
  {
   "cell_type": "code",
   "execution_count": null,
   "metadata": {},
   "outputs": [],
   "source": [
    "#note: there were 1201 schools in geolocated database; looks like we lost about 23 schools here? "
   ]
  },
  {
   "cell_type": "code",
   "execution_count": 164,
   "metadata": {},
   "outputs": [
    {
     "data": {
      "text/plain": [
       "625"
      ]
     },
     "execution_count": 164,
     "metadata": {},
     "output_type": "execute_result"
    }
   ],
   "source": [
    "df_final['PRIMARY_BUILDING_CODE'].nunique()"
   ]
  },
  {
   "cell_type": "code",
   "execution_count": 166,
   "metadata": {},
   "outputs": [
    {
     "data": {
      "text/plain": [
       "645"
      ]
     },
     "execution_count": 166,
     "metadata": {},
     "output_type": "execute_result"
    }
   ],
   "source": [
    "df_rated_schools['Building Code'].nunique()"
   ]
  },
  {
   "cell_type": "code",
   "execution_count": null,
   "metadata": {},
   "outputs": [],
   "source": [
    "#we've lost 20 buildings that didn't match on location code"
   ]
  },
  {
   "cell_type": "markdown",
   "metadata": {},
   "source": [
    "# Pluto"
   ]
  },
  {
   "cell_type": "code",
   "execution_count": null,
   "metadata": {},
   "outputs": [],
   "source": [
    "#read in pluto from https://www1.nyc.gov/site/planning/data-maps/open-data/dwn-pluto-mappluto.page"
   ]
  },
  {
   "cell_type": "code",
   "execution_count": 130,
   "metadata": {},
   "outputs": [],
   "source": [
    "df_pluto = pd.read_csv('pluto_20v1.csv')"
   ]
  },
  {
   "cell_type": "code",
   "execution_count": null,
   "metadata": {},
   "outputs": [],
   "source": [
    "#data dictionary https://www1.nyc.gov/assets/planning/download/pdf/data-maps/open-data/pluto_datadictionary.pdf?v=20v1"
   ]
  },
  {
   "cell_type": "code",
   "execution_count": 134,
   "metadata": {},
   "outputs": [
    {
     "data": {
      "text/plain": [
       "borough        object\n",
       "block           int64\n",
       "lot             int64\n",
       "cd            float64\n",
       "ct2010        float64\n",
       "cb2010        float64\n",
       "schooldist    float64\n",
       "council       float64\n",
       "zipcode       float64\n",
       "firecomp       object\n",
       "policeprct    float64\n",
       "healtharea    float64\n",
       "sanitboro     float64\n",
       "sanitsub       object\n",
       "address        object\n",
       "zonedist1      object\n",
       "zonedist2      object\n",
       "zonedist3      object\n",
       "zonedist4      object\n",
       "overlay1       object\n",
       "overlay2       object\n",
       "spdist1        object\n",
       "spdist2        object\n",
       "spdist3       float64\n",
       "ltdheight      object\n",
       "splitzone      object\n",
       "bldgclass      object\n",
       "landuse       float64\n",
       "easements     float64\n",
       "ownertype      object\n",
       "ownername      object\n",
       "lotarea       float64\n",
       "bldgarea      float64\n",
       "comarea       float64\n",
       "resarea       float64\n",
       "officearea    float64\n",
       "retailarea    float64\n",
       "garagearea    float64\n",
       "strgearea     float64\n",
       "factryarea    float64\n",
       "otherarea     float64\n",
       "areasource    float64\n",
       "numbldgs      float64\n",
       "numfloors     float64\n",
       "unitsres      float64\n",
       "unitstotal    float64\n",
       "lotfront      float64\n",
       "lotdepth      float64\n",
       "bldgfront     float64\n",
       "bldgdepth     float64\n",
       "dtype: object"
      ]
     },
     "execution_count": 134,
     "metadata": {},
     "output_type": "execute_result"
    }
   ],
   "source": [
    "df_pluto.dtypes.head(50)"
   ]
  },
  {
   "cell_type": "code",
   "execution_count": 135,
   "metadata": {},
   "outputs": [
    {
     "data": {
      "text/plain": [
       "bldgdepth               float64\n",
       "ext                      object\n",
       "proxcode                float64\n",
       "irrlotcode               object\n",
       "lottype                 float64\n",
       "bsmtcode                float64\n",
       "assessland              float64\n",
       "assesstot               float64\n",
       "exempttot               float64\n",
       "yearbuilt               float64\n",
       "yearalter1              float64\n",
       "yearalter2              float64\n",
       "histdist                 object\n",
       "landmark                 object\n",
       "builtfar                float64\n",
       "residfar                float64\n",
       "commfar                 float64\n",
       "facilfar                float64\n",
       "borocode                  int64\n",
       "bbl                       int64\n",
       "condono                 float64\n",
       "tract2010               float64\n",
       "xcoord                  float64\n",
       "ycoord                  float64\n",
       "latitude                float64\n",
       "longitude               float64\n",
       "zonemap                  object\n",
       "zmcode                   object\n",
       "sanborn                  object\n",
       "taxmap                  float64\n",
       "edesignum               float64\n",
       "appbbl                  float64\n",
       "appdate                  object\n",
       "plutomapid                int64\n",
       "version                  object\n",
       "sanitdistrict           float64\n",
       "healthcenterdistrict    float64\n",
       "firm07_flag             float64\n",
       "pfirm15_flag            float64\n",
       "rpaddate                float64\n",
       "dcasdate                float64\n",
       "zoningdate              float64\n",
       "landmkdate              float64\n",
       "basempdate              float64\n",
       "masdate                 float64\n",
       "polidate                float64\n",
       "edesigdate              float64\n",
       "geom                     object\n",
       "dcpedited                object\n",
       "notes                   float64\n",
       "dtype: object"
      ]
     },
     "execution_count": 135,
     "metadata": {},
     "output_type": "execute_result"
    }
   ],
   "source": [
    "df_pluto.dtypes.tail(50)"
   ]
  },
  {
   "cell_type": "code",
   "execution_count": null,
   "metadata": {},
   "outputs": [],
   "source": [
    "#pull out landmark status, borough block lot no, years altered, historical district status, coords"
   ]
  },
  {
   "cell_type": "code",
   "execution_count": 136,
   "metadata": {},
   "outputs": [],
   "source": [
    "df_pluto_selected = df_pluto[['landmark','bbl','yearbuilt','yearalter1','yearalter2', 'histdist','xcoord','ycoord']]"
   ]
  },
  {
   "cell_type": "code",
   "execution_count": null,
   "metadata": {},
   "outputs": [],
   "source": [
    "#quick view"
   ]
  },
  {
   "cell_type": "code",
   "execution_count": 137,
   "metadata": {},
   "outputs": [
    {
     "data": {
      "text/html": [
       "<div>\n",
       "<style scoped>\n",
       "    .dataframe tbody tr th:only-of-type {\n",
       "        vertical-align: middle;\n",
       "    }\n",
       "\n",
       "    .dataframe tbody tr th {\n",
       "        vertical-align: top;\n",
       "    }\n",
       "\n",
       "    .dataframe thead th {\n",
       "        text-align: right;\n",
       "    }\n",
       "</style>\n",
       "<table border=\"1\" class=\"dataframe\">\n",
       "  <thead>\n",
       "    <tr style=\"text-align: right;\">\n",
       "      <th></th>\n",
       "      <th>landmark</th>\n",
       "      <th>bbl</th>\n",
       "      <th>yearbuilt</th>\n",
       "      <th>yearalter1</th>\n",
       "      <th>yearalter2</th>\n",
       "      <th>histdist</th>\n",
       "      <th>xcoord</th>\n",
       "      <th>ycoord</th>\n",
       "    </tr>\n",
       "  </thead>\n",
       "  <tbody>\n",
       "    <tr>\n",
       "      <td>0</td>\n",
       "      <td>NaN</td>\n",
       "      <td>3008340046</td>\n",
       "      <td>1931.0</td>\n",
       "      <td>0.0</td>\n",
       "      <td>0.0</td>\n",
       "      <td>NaN</td>\n",
       "      <td>982211.0</td>\n",
       "      <td>171707.0</td>\n",
       "    </tr>\n",
       "    <tr>\n",
       "      <td>1</td>\n",
       "      <td>NaN</td>\n",
       "      <td>4040420106</td>\n",
       "      <td>1910.0</td>\n",
       "      <td>0.0</td>\n",
       "      <td>0.0</td>\n",
       "      <td>NaN</td>\n",
       "      <td>1026895.0</td>\n",
       "      <td>225880.0</td>\n",
       "    </tr>\n",
       "    <tr>\n",
       "      <td>2</td>\n",
       "      <td>NaN</td>\n",
       "      <td>3046790017</td>\n",
       "      <td>1920.0</td>\n",
       "      <td>0.0</td>\n",
       "      <td>0.0</td>\n",
       "      <td>NaN</td>\n",
       "      <td>1004527.0</td>\n",
       "      <td>177269.0</td>\n",
       "    </tr>\n",
       "    <tr>\n",
       "      <td>3</td>\n",
       "      <td>NaN</td>\n",
       "      <td>3078310006</td>\n",
       "      <td>1920.0</td>\n",
       "      <td>0.0</td>\n",
       "      <td>0.0</td>\n",
       "      <td>NaN</td>\n",
       "      <td>1004804.0</td>\n",
       "      <td>166580.0</td>\n",
       "    </tr>\n",
       "    <tr>\n",
       "      <td>4</td>\n",
       "      <td>NaN</td>\n",
       "      <td>3078310007</td>\n",
       "      <td>1920.0</td>\n",
       "      <td>0.0</td>\n",
       "      <td>0.0</td>\n",
       "      <td>NaN</td>\n",
       "      <td>1004784.0</td>\n",
       "      <td>166579.0</td>\n",
       "    </tr>\n",
       "    <tr>\n",
       "      <td>...</td>\n",
       "      <td>...</td>\n",
       "      <td>...</td>\n",
       "      <td>...</td>\n",
       "      <td>...</td>\n",
       "      <td>...</td>\n",
       "      <td>...</td>\n",
       "      <td>...</td>\n",
       "      <td>...</td>\n",
       "    </tr>\n",
       "    <tr>\n",
       "      <td>859167</td>\n",
       "      <td>NaN</td>\n",
       "      <td>2046560045</td>\n",
       "      <td>1920.0</td>\n",
       "      <td>0.0</td>\n",
       "      <td>0.0</td>\n",
       "      <td>NaN</td>\n",
       "      <td>1022358.0</td>\n",
       "      <td>261858.0</td>\n",
       "    </tr>\n",
       "    <tr>\n",
       "      <td>859168</td>\n",
       "      <td>NaN</td>\n",
       "      <td>4086200038</td>\n",
       "      <td>1935.0</td>\n",
       "      <td>0.0</td>\n",
       "      <td>0.0</td>\n",
       "      <td>NaN</td>\n",
       "      <td>1063503.0</td>\n",
       "      <td>206551.0</td>\n",
       "    </tr>\n",
       "    <tr>\n",
       "      <td>859169</td>\n",
       "      <td>NaN</td>\n",
       "      <td>3025750023</td>\n",
       "      <td>1901.0</td>\n",
       "      <td>2010.0</td>\n",
       "      <td>2018.0</td>\n",
       "      <td>NaN</td>\n",
       "      <td>997519.0</td>\n",
       "      <td>204933.0</td>\n",
       "    </tr>\n",
       "    <tr>\n",
       "      <td>859170</td>\n",
       "      <td>NaN</td>\n",
       "      <td>1020230046</td>\n",
       "      <td>1891.0</td>\n",
       "      <td>0.0</td>\n",
       "      <td>0.0</td>\n",
       "      <td>St. Nicholas Historic District</td>\n",
       "      <td>999843.0</td>\n",
       "      <td>237139.0</td>\n",
       "    </tr>\n",
       "    <tr>\n",
       "      <td>859171</td>\n",
       "      <td>NaN</td>\n",
       "      <td>1020590008</td>\n",
       "      <td>1893.0</td>\n",
       "      <td>0.0</td>\n",
       "      <td>0.0</td>\n",
       "      <td>Hamilton Heights Historic District</td>\n",
       "      <td>998733.0</td>\n",
       "      <td>239420.0</td>\n",
       "    </tr>\n",
       "  </tbody>\n",
       "</table>\n",
       "<p>859172 rows × 8 columns</p>\n",
       "</div>"
      ],
      "text/plain": [
       "       landmark         bbl  yearbuilt  yearalter1  yearalter2  \\\n",
       "0           NaN  3008340046     1931.0         0.0         0.0   \n",
       "1           NaN  4040420106     1910.0         0.0         0.0   \n",
       "2           NaN  3046790017     1920.0         0.0         0.0   \n",
       "3           NaN  3078310006     1920.0         0.0         0.0   \n",
       "4           NaN  3078310007     1920.0         0.0         0.0   \n",
       "...         ...         ...        ...         ...         ...   \n",
       "859167      NaN  2046560045     1920.0         0.0         0.0   \n",
       "859168      NaN  4086200038     1935.0         0.0         0.0   \n",
       "859169      NaN  3025750023     1901.0      2010.0      2018.0   \n",
       "859170      NaN  1020230046     1891.0         0.0         0.0   \n",
       "859171      NaN  1020590008     1893.0         0.0         0.0   \n",
       "\n",
       "                                  histdist     xcoord    ycoord  \n",
       "0                                      NaN   982211.0  171707.0  \n",
       "1                                      NaN  1026895.0  225880.0  \n",
       "2                                      NaN  1004527.0  177269.0  \n",
       "3                                      NaN  1004804.0  166580.0  \n",
       "4                                      NaN  1004784.0  166579.0  \n",
       "...                                    ...        ...       ...  \n",
       "859167                                 NaN  1022358.0  261858.0  \n",
       "859168                                 NaN  1063503.0  206551.0  \n",
       "859169                                 NaN   997519.0  204933.0  \n",
       "859170      St. Nicholas Historic District   999843.0  237139.0  \n",
       "859171  Hamilton Heights Historic District   998733.0  239420.0  \n",
       "\n",
       "[859172 rows x 8 columns]"
      ]
     },
     "execution_count": 137,
     "metadata": {},
     "output_type": "execute_result"
    }
   ],
   "source": [
    "df_pluto_selected"
   ]
  },
  {
   "cell_type": "code",
   "execution_count": null,
   "metadata": {},
   "outputs": [],
   "source": [
    "#distribution of years built for all buildings in the city that aren't zero"
   ]
  },
  {
   "cell_type": "code",
   "execution_count": 170,
   "metadata": {},
   "outputs": [
    {
     "data": {
      "text/plain": [
       "<matplotlib.axes._subplots.AxesSubplot at 0x170c60d50>"
      ]
     },
     "execution_count": 170,
     "metadata": {},
     "output_type": "execute_result"
    },
    {
     "data": {
      "image/png": "[encoded data removed]",
      "text/plain": [
       "<Figure size 432x288 with 1 Axes>"
      ]
     },
     "metadata": {
      "needs_background": "light"
     },
     "output_type": "display_data"
    }
   ],
   "source": [
    "df_pluto_selected['yearbuilt'][df_pluto_selected['yearbuilt']!=0.0].plot(kind='hist')"
   ]
  },
  {
   "cell_type": "code",
   "execution_count": null,
   "metadata": {},
   "outputs": [],
   "source": [
    "#combine with pluto on borough block and lot numbers; save progress"
   ]
  },
  {
   "cell_type": "code",
   "execution_count": 148,
   "metadata": {},
   "outputs": [],
   "source": [
    "df_pluto_selected.merge(df_final, left_on='bbl',right_on='BOROUGH_BLOCK_LOT').to_csv('year_built_school.csv')"
   ]
  },
  {
   "cell_type": "code",
   "execution_count": null,
   "metadata": {},
   "outputs": [],
   "source": [
    "#read the file back in "
   ]
  },
  {
   "cell_type": "code",
   "execution_count": 149,
   "metadata": {},
   "outputs": [],
   "source": [
    "df_real = pd.read_csv('year_built_school.csv')"
   ]
  },
  {
   "cell_type": "code",
   "execution_count": null,
   "metadata": {},
   "outputs": [],
   "source": [
    "#we've got 616 buildings combined successfully"
   ]
  },
  {
   "cell_type": "code",
   "execution_count": 167,
   "metadata": {},
   "outputs": [
    {
     "data": {
      "text/plain": [
       "616"
      ]
     },
     "execution_count": 167,
     "metadata": {},
     "output_type": "execute_result"
    }
   ],
   "source": [
    "df_real['Building Code'].nunique()"
   ]
  },
  {
   "cell_type": "markdown",
   "metadata": {},
   "source": [
    "# Distributions"
   ]
  },
  {
   "cell_type": "markdown",
   "metadata": {},
   "source": [
    "School Builings"
   ]
  },
  {
   "cell_type": "code",
   "execution_count": 176,
   "metadata": {},
   "outputs": [
    {
     "data": {
      "text/html": [
       "<div>\n",
       "<style scoped>\n",
       "    .dataframe tbody tr th:only-of-type {\n",
       "        vertical-align: middle;\n",
       "    }\n",
       "\n",
       "    .dataframe tbody tr th {\n",
       "        vertical-align: top;\n",
       "    }\n",
       "\n",
       "    .dataframe thead th {\n",
       "        text-align: right;\n",
       "    }\n",
       "</style>\n",
       "<table border=\"1\" class=\"dataframe\">\n",
       "  <thead>\n",
       "    <tr style=\"text-align: right;\">\n",
       "      <th></th>\n",
       "      <th>FISCAL_YEAR</th>\n",
       "      <th>ATS SYSTEM CODE</th>\n",
       "      <th>LOCATION_CODE</th>\n",
       "      <th>LOCATION_NAME</th>\n",
       "      <th>BEDS NUMBER</th>\n",
       "      <th>MANAGED_BY_NAME</th>\n",
       "      <th>LOCATION_TYPE_DESCRIPTION</th>\n",
       "      <th>LOCATION_CATEGORY_DESCRIPTION</th>\n",
       "      <th>GRADES_TEXT</th>\n",
       "      <th>GRADES_FINAL_TEXT</th>\n",
       "      <th>...</th>\n",
       "      <th>ADMINISTRATIVE_DISTRICT_NAME</th>\n",
       "      <th>COMMUNITY_SCHOOL_SUP_NAME</th>\n",
       "      <th>FIELD_SUPPORT_CENTER_NAME</th>\n",
       "      <th>FIELD_SUPPORT_CENTER_LEADER_NAME</th>\n",
       "      <th>SCHOOL_SUPPORT_TEAM_NAME</th>\n",
       "      <th>SCHOOL_SUPPORT_TEAM_LEADER_NAME</th>\n",
       "      <th>HIGHSCHOOL_NETWORK_LOCATION_CODE</th>\n",
       "      <th>HIGHSCHOOL_NETWORK_NAME</th>\n",
       "      <th>HIGHSCHOOL_NETWORK_SUPERINTENDENT</th>\n",
       "      <th>Location 1</th>\n",
       "    </tr>\n",
       "  </thead>\n",
       "  <tbody>\n",
       "    <tr>\n",
       "      <td>0</td>\n",
       "      <td>2018</td>\n",
       "      <td>01M015</td>\n",
       "      <td>M015</td>\n",
       "      <td>P.S. 015 Roberto Clemente</td>\n",
       "      <td>310100010015</td>\n",
       "      <td>DOE</td>\n",
       "      <td>General Academic</td>\n",
       "      <td>Elementary</td>\n",
       "      <td>PK,0K,01,02,03,04,05,SE</td>\n",
       "      <td>PK,0K,01,02,03,04,05</td>\n",
       "      <td>...</td>\n",
       "      <td>COMMUNITY SCHOOL DISTRICT 01</td>\n",
       "      <td>PHILLIPS, DANIELLA</td>\n",
       "      <td>Field Support Center - Manhattan</td>\n",
       "      <td>CHU, YUET</td>\n",
       "      <td>School Support Team 3- Manhattan</td>\n",
       "      <td>NaN</td>\n",
       "      <td>NaN</td>\n",
       "      <td>NaN</td>\n",
       "      <td>NaN</td>\n",
       "      <td>333 EAST 4 STREET\\nMANHATTAN, NY 10009\\n(40.72...</td>\n",
       "    </tr>\n",
       "    <tr>\n",
       "      <td>1</td>\n",
       "      <td>2018</td>\n",
       "      <td>01M019</td>\n",
       "      <td>M019</td>\n",
       "      <td>P.S. 019 Asher Levy</td>\n",
       "      <td>310100010019</td>\n",
       "      <td>DOE</td>\n",
       "      <td>General Academic</td>\n",
       "      <td>Elementary</td>\n",
       "      <td>PK,0K,01,02,03,04,05,SE</td>\n",
       "      <td>PK,0K,01,02,03,04,05</td>\n",
       "      <td>...</td>\n",
       "      <td>COMMUNITY SCHOOL DISTRICT 01</td>\n",
       "      <td>PHILLIPS, DANIELLA</td>\n",
       "      <td>Field Support Center - Manhattan</td>\n",
       "      <td>CHU, YUET</td>\n",
       "      <td>School Support Team 3- Manhattan</td>\n",
       "      <td>NaN</td>\n",
       "      <td>NaN</td>\n",
       "      <td>NaN</td>\n",
       "      <td>NaN</td>\n",
       "      <td>185 1 AVENUE\\nMANHATTAN, NY 10003\\n(40.730009,...</td>\n",
       "    </tr>\n",
       "    <tr>\n",
       "      <td>2</td>\n",
       "      <td>2018</td>\n",
       "      <td>01M020</td>\n",
       "      <td>M020</td>\n",
       "      <td>P.S. 020 Anna Silver</td>\n",
       "      <td>310100010020</td>\n",
       "      <td>DOE</td>\n",
       "      <td>General Academic</td>\n",
       "      <td>Elementary</td>\n",
       "      <td>PK,0K,01,02,03,04,05,SE</td>\n",
       "      <td>PK,0K,01,02,03,04,05</td>\n",
       "      <td>...</td>\n",
       "      <td>COMMUNITY SCHOOL DISTRICT 01</td>\n",
       "      <td>PHILLIPS, DANIELLA</td>\n",
       "      <td>Field Support Center - Manhattan</td>\n",
       "      <td>CHU, YUET</td>\n",
       "      <td>School Support Team 3- Manhattan</td>\n",
       "      <td>NaN</td>\n",
       "      <td>NaN</td>\n",
       "      <td>NaN</td>\n",
       "      <td>NaN</td>\n",
       "      <td>166 ESSEX STREET\\nMANHATTAN, NY 10002\\n(40.721...</td>\n",
       "    </tr>\n",
       "    <tr>\n",
       "      <td>3</td>\n",
       "      <td>2018</td>\n",
       "      <td>01M034</td>\n",
       "      <td>M034</td>\n",
       "      <td>P.S. 034 Franklin D. Roosevelt</td>\n",
       "      <td>310100010034</td>\n",
       "      <td>DOE</td>\n",
       "      <td>General Academic</td>\n",
       "      <td>K-8</td>\n",
       "      <td>PK,0K,01,02,03,04,05,06,07,08,SE</td>\n",
       "      <td>PK,0K,01,02,03,04,05,06,07,08</td>\n",
       "      <td>...</td>\n",
       "      <td>COMMUNITY SCHOOL DISTRICT 01</td>\n",
       "      <td>PHILLIPS, DANIELLA</td>\n",
       "      <td>Field Support Center - Manhattan</td>\n",
       "      <td>CHU, YUET</td>\n",
       "      <td>School Support Team 3- Manhattan</td>\n",
       "      <td>NaN</td>\n",
       "      <td>NaN</td>\n",
       "      <td>NaN</td>\n",
       "      <td>NaN</td>\n",
       "      <td>730 EAST 12 STREET\\nMANHATTAN, NY 10009\\n(40.7...</td>\n",
       "    </tr>\n",
       "    <tr>\n",
       "      <td>4</td>\n",
       "      <td>2018</td>\n",
       "      <td>01M063</td>\n",
       "      <td>M063</td>\n",
       "      <td>The STAR Academy - P.S.63</td>\n",
       "      <td>310100010063</td>\n",
       "      <td>DOE</td>\n",
       "      <td>General Academic</td>\n",
       "      <td>Elementary</td>\n",
       "      <td>PK,0K,01,02,03,04,05,SE</td>\n",
       "      <td>PK,0K,01,02,03,04,05</td>\n",
       "      <td>...</td>\n",
       "      <td>COMMUNITY SCHOOL DISTRICT 01</td>\n",
       "      <td>PHILLIPS, DANIELLA</td>\n",
       "      <td>Field Support Center - Manhattan</td>\n",
       "      <td>CHU, YUET</td>\n",
       "      <td>School Support Team 3- Manhattan</td>\n",
       "      <td>NaN</td>\n",
       "      <td>NaN</td>\n",
       "      <td>NaN</td>\n",
       "      <td>NaN</td>\n",
       "      <td>121 EAST 3 STREET\\nMANHATTAN, NY 10009\\n(40.72...</td>\n",
       "    </tr>\n",
       "    <tr>\n",
       "      <td>...</td>\n",
       "      <td>...</td>\n",
       "      <td>...</td>\n",
       "      <td>...</td>\n",
       "      <td>...</td>\n",
       "      <td>...</td>\n",
       "      <td>...</td>\n",
       "      <td>...</td>\n",
       "      <td>...</td>\n",
       "      <td>...</td>\n",
       "      <td>...</td>\n",
       "      <td>...</td>\n",
       "      <td>...</td>\n",
       "      <td>...</td>\n",
       "      <td>...</td>\n",
       "      <td>...</td>\n",
       "      <td>...</td>\n",
       "      <td>...</td>\n",
       "      <td>...</td>\n",
       "      <td>...</td>\n",
       "      <td>...</td>\n",
       "      <td>...</td>\n",
       "    </tr>\n",
       "    <tr>\n",
       "      <td>1818</td>\n",
       "      <td>2018</td>\n",
       "      <td>84X705</td>\n",
       "      <td>X705</td>\n",
       "      <td>Family Life Academy Charter School</td>\n",
       "      <td>320900860839</td>\n",
       "      <td>Charter</td>\n",
       "      <td>General Academic</td>\n",
       "      <td>K-8</td>\n",
       "      <td>0K,01,02,03,04,05</td>\n",
       "      <td>0K,01,02,03,04,05</td>\n",
       "      <td>...</td>\n",
       "      <td>OFFICE OF CHARTER SCHOOLS</td>\n",
       "      <td>NaN</td>\n",
       "      <td>NaN</td>\n",
       "      <td>NaN</td>\n",
       "      <td>NaN</td>\n",
       "      <td>NaN</td>\n",
       "      <td>NaN</td>\n",
       "      <td>NaN</td>\n",
       "      <td>NaN</td>\n",
       "      <td>14 WEST 170 STREET\\nBRONX, NY 10452\\n(40.84026...</td>\n",
       "    </tr>\n",
       "    <tr>\n",
       "      <td>1819</td>\n",
       "      <td>2018</td>\n",
       "      <td>84X706</td>\n",
       "      <td>X706</td>\n",
       "      <td>Harriet Tubman Charter School</td>\n",
       "      <td>320900860823</td>\n",
       "      <td>Charter</td>\n",
       "      <td>General Academic</td>\n",
       "      <td>K-8</td>\n",
       "      <td>0K,01,02,03,04,05,06,07,08</td>\n",
       "      <td>0K,01,02,03,04,05,06,07,08</td>\n",
       "      <td>...</td>\n",
       "      <td>OFFICE OF CHARTER SCHOOLS</td>\n",
       "      <td>NaN</td>\n",
       "      <td>NaN</td>\n",
       "      <td>NaN</td>\n",
       "      <td>NaN</td>\n",
       "      <td>NaN</td>\n",
       "      <td>NaN</td>\n",
       "      <td>NaN</td>\n",
       "      <td>NaN</td>\n",
       "      <td>3565 THIRD AVENUE\\nBRONX, NY 10456\\n(40.832328...</td>\n",
       "    </tr>\n",
       "    <tr>\n",
       "      <td>1820</td>\n",
       "      <td>2018</td>\n",
       "      <td>84X717</td>\n",
       "      <td>X717</td>\n",
       "      <td>Icahn Charter School</td>\n",
       "      <td>320900860835</td>\n",
       "      <td>Charter</td>\n",
       "      <td>General Academic</td>\n",
       "      <td>K-8</td>\n",
       "      <td>0K,01,02,03,04,05,06,07,08</td>\n",
       "      <td>0K,01,02,03,04,05,06,07,08</td>\n",
       "      <td>...</td>\n",
       "      <td>OFFICE OF CHARTER SCHOOLS</td>\n",
       "      <td>NaN</td>\n",
       "      <td>NaN</td>\n",
       "      <td>NaN</td>\n",
       "      <td>NaN</td>\n",
       "      <td>NaN</td>\n",
       "      <td>NaN</td>\n",
       "      <td>NaN</td>\n",
       "      <td>NaN</td>\n",
       "      <td>1506-30 BROOK AVENUE\\nBRONX, NY 10457\\n(40.838...</td>\n",
       "    </tr>\n",
       "    <tr>\n",
       "      <td>1821</td>\n",
       "      <td>2018</td>\n",
       "      <td>84X718</td>\n",
       "      <td>X718</td>\n",
       "      <td>Bronx Charter School for Better Learning</td>\n",
       "      <td>321100860855</td>\n",
       "      <td>Charter</td>\n",
       "      <td>General Academic</td>\n",
       "      <td>Elementary</td>\n",
       "      <td>PK,0K,01,02,03,04,05</td>\n",
       "      <td>0K,01,02,03,04,05</td>\n",
       "      <td>...</td>\n",
       "      <td>OFFICE OF CHARTER SCHOOLS</td>\n",
       "      <td>NaN</td>\n",
       "      <td>NaN</td>\n",
       "      <td>NaN</td>\n",
       "      <td>NaN</td>\n",
       "      <td>NaN</td>\n",
       "      <td>NaN</td>\n",
       "      <td>NaN</td>\n",
       "      <td>NaN</td>\n",
       "      <td>3740 BAYCHESTER AVENUE\\nBRONX, NY 10466\\n(40.8...</td>\n",
       "    </tr>\n",
       "    <tr>\n",
       "      <td>1822</td>\n",
       "      <td>2018</td>\n",
       "      <td>84X730</td>\n",
       "      <td>X730</td>\n",
       "      <td>Bronx Charter School for the Arts</td>\n",
       "      <td>320800860846</td>\n",
       "      <td>Charter</td>\n",
       "      <td>General Academic</td>\n",
       "      <td>Elementary</td>\n",
       "      <td>0K,01,02,03,04,05,06,SE</td>\n",
       "      <td>0K,01,02,03,04,05,06</td>\n",
       "      <td>...</td>\n",
       "      <td>OFFICE OF CHARTER SCHOOLS</td>\n",
       "      <td>NaN</td>\n",
       "      <td>NaN</td>\n",
       "      <td>NaN</td>\n",
       "      <td>NaN</td>\n",
       "      <td>NaN</td>\n",
       "      <td>NaN</td>\n",
       "      <td>NaN</td>\n",
       "      <td>NaN</td>\n",
       "      <td>950 LONGFELLOW AVENUE\\nBRONX, NY 10474\\n(40.82...</td>\n",
       "    </tr>\n",
       "  </tbody>\n",
       "</table>\n",
       "<p>1823 rows × 39 columns</p>\n",
       "</div>"
      ],
      "text/plain": [
       "      FISCAL_YEAR ATS SYSTEM CODE LOCATION_CODE  \\\n",
       "0            2018    01M015                M015   \n",
       "1            2018    01M019                M019   \n",
       "2            2018    01M020                M020   \n",
       "3            2018    01M034                M034   \n",
       "4            2018    01M063                M063   \n",
       "...           ...             ...           ...   \n",
       "1818         2018    84X705                X705   \n",
       "1819         2018    84X706                X706   \n",
       "1820         2018    84X717                X717   \n",
       "1821         2018    84X718                X718   \n",
       "1822         2018    84X730                X730   \n",
       "\n",
       "                                 LOCATION_NAME   BEDS NUMBER MANAGED_BY_NAME  \\\n",
       "0                    P.S. 015 Roberto Clemente  310100010015             DOE   \n",
       "1                          P.S. 019 Asher Levy  310100010019             DOE   \n",
       "2                         P.S. 020 Anna Silver  310100010020             DOE   \n",
       "3               P.S. 034 Franklin D. Roosevelt  310100010034             DOE   \n",
       "4                    The STAR Academy - P.S.63  310100010063             DOE   \n",
       "...                                        ...           ...             ...   \n",
       "1818        Family Life Academy Charter School  320900860839         Charter   \n",
       "1819             Harriet Tubman Charter School  320900860823         Charter   \n",
       "1820                      Icahn Charter School  320900860835         Charter   \n",
       "1821  Bronx Charter School for Better Learning  321100860855         Charter   \n",
       "1822         Bronx Charter School for the Arts  320800860846         Charter   \n",
       "\n",
       "     LOCATION_TYPE_DESCRIPTION LOCATION_CATEGORY_DESCRIPTION  \\\n",
       "0             General Academic                    Elementary   \n",
       "1             General Academic                    Elementary   \n",
       "2             General Academic                    Elementary   \n",
       "3             General Academic                           K-8   \n",
       "4             General Academic                    Elementary   \n",
       "...                        ...                           ...   \n",
       "1818          General Academic                           K-8   \n",
       "1819          General Academic                           K-8   \n",
       "1820          General Academic                           K-8   \n",
       "1821          General Academic                    Elementary   \n",
       "1822          General Academic                    Elementary   \n",
       "\n",
       "                           GRADES_TEXT              GRADES_FINAL_TEXT  ...  \\\n",
       "0              PK,0K,01,02,03,04,05,SE           PK,0K,01,02,03,04,05  ...   \n",
       "1              PK,0K,01,02,03,04,05,SE           PK,0K,01,02,03,04,05  ...   \n",
       "2              PK,0K,01,02,03,04,05,SE           PK,0K,01,02,03,04,05  ...   \n",
       "3     PK,0K,01,02,03,04,05,06,07,08,SE  PK,0K,01,02,03,04,05,06,07,08  ...   \n",
       "4              PK,0K,01,02,03,04,05,SE           PK,0K,01,02,03,04,05  ...   \n",
       "...                                ...                            ...  ...   \n",
       "1818                 0K,01,02,03,04,05              0K,01,02,03,04,05  ...   \n",
       "1819        0K,01,02,03,04,05,06,07,08     0K,01,02,03,04,05,06,07,08  ...   \n",
       "1820        0K,01,02,03,04,05,06,07,08     0K,01,02,03,04,05,06,07,08  ...   \n",
       "1821              PK,0K,01,02,03,04,05              0K,01,02,03,04,05  ...   \n",
       "1822           0K,01,02,03,04,05,06,SE           0K,01,02,03,04,05,06  ...   \n",
       "\n",
       "      ADMINISTRATIVE_DISTRICT_NAME COMMUNITY_SCHOOL_SUP_NAME  \\\n",
       "0     COMMUNITY SCHOOL DISTRICT 01        PHILLIPS, DANIELLA   \n",
       "1     COMMUNITY SCHOOL DISTRICT 01        PHILLIPS, DANIELLA   \n",
       "2     COMMUNITY SCHOOL DISTRICT 01        PHILLIPS, DANIELLA   \n",
       "3     COMMUNITY SCHOOL DISTRICT 01        PHILLIPS, DANIELLA   \n",
       "4     COMMUNITY SCHOOL DISTRICT 01        PHILLIPS, DANIELLA   \n",
       "...                            ...                       ...   \n",
       "1818     OFFICE OF CHARTER SCHOOLS                       NaN   \n",
       "1819     OFFICE OF CHARTER SCHOOLS                       NaN   \n",
       "1820     OFFICE OF CHARTER SCHOOLS                       NaN   \n",
       "1821     OFFICE OF CHARTER SCHOOLS                       NaN   \n",
       "1822     OFFICE OF CHARTER SCHOOLS                       NaN   \n",
       "\n",
       "             FIELD_SUPPORT_CENTER_NAME FIELD_SUPPORT_CENTER_LEADER_NAME  \\\n",
       "0     Field Support Center - Manhattan                        CHU, YUET   \n",
       "1     Field Support Center - Manhattan                        CHU, YUET   \n",
       "2     Field Support Center - Manhattan                        CHU, YUET   \n",
       "3     Field Support Center - Manhattan                        CHU, YUET   \n",
       "4     Field Support Center - Manhattan                        CHU, YUET   \n",
       "...                                ...                              ...   \n",
       "1818                               NaN                              NaN   \n",
       "1819                               NaN                              NaN   \n",
       "1820                               NaN                              NaN   \n",
       "1821                               NaN                              NaN   \n",
       "1822                               NaN                              NaN   \n",
       "\n",
       "              SCHOOL_SUPPORT_TEAM_NAME  SCHOOL_SUPPORT_TEAM_LEADER_NAME  \\\n",
       "0     School Support Team 3- Manhattan                              NaN   \n",
       "1     School Support Team 3- Manhattan                              NaN   \n",
       "2     School Support Team 3- Manhattan                              NaN   \n",
       "3     School Support Team 3- Manhattan                              NaN   \n",
       "4     School Support Team 3- Manhattan                              NaN   \n",
       "...                                ...                              ...   \n",
       "1818                               NaN                              NaN   \n",
       "1819                               NaN                              NaN   \n",
       "1820                               NaN                              NaN   \n",
       "1821                               NaN                              NaN   \n",
       "1822                               NaN                              NaN   \n",
       "\n",
       "      HIGHSCHOOL_NETWORK_LOCATION_CODE  HIGHSCHOOL_NETWORK_NAME  \\\n",
       "0                                  NaN                      NaN   \n",
       "1                                  NaN                      NaN   \n",
       "2                                  NaN                      NaN   \n",
       "3                                  NaN                      NaN   \n",
       "4                                  NaN                      NaN   \n",
       "...                                ...                      ...   \n",
       "1818                               NaN                      NaN   \n",
       "1819                               NaN                      NaN   \n",
       "1820                               NaN                      NaN   \n",
       "1821                               NaN                      NaN   \n",
       "1822                               NaN                      NaN   \n",
       "\n",
       "      HIGHSCHOOL_NETWORK_SUPERINTENDENT  \\\n",
       "0                                   NaN   \n",
       "1                                   NaN   \n",
       "2                                   NaN   \n",
       "3                                   NaN   \n",
       "4                                   NaN   \n",
       "...                                 ...   \n",
       "1818                                NaN   \n",
       "1819                                NaN   \n",
       "1820                                NaN   \n",
       "1821                                NaN   \n",
       "1822                                NaN   \n",
       "\n",
       "                                             Location 1  \n",
       "0     333 EAST 4 STREET\\nMANHATTAN, NY 10009\\n(40.72...  \n",
       "1     185 1 AVENUE\\nMANHATTAN, NY 10003\\n(40.730009,...  \n",
       "2     166 ESSEX STREET\\nMANHATTAN, NY 10002\\n(40.721...  \n",
       "3     730 EAST 12 STREET\\nMANHATTAN, NY 10009\\n(40.7...  \n",
       "4     121 EAST 3 STREET\\nMANHATTAN, NY 10009\\n(40.72...  \n",
       "...                                                 ...  \n",
       "1818  14 WEST 170 STREET\\nBRONX, NY 10452\\n(40.84026...  \n",
       "1819  3565 THIRD AVENUE\\nBRONX, NY 10456\\n(40.832328...  \n",
       "1820  1506-30 BROOK AVENUE\\nBRONX, NY 10457\\n(40.838...  \n",
       "1821  3740 BAYCHESTER AVENUE\\nBRONX, NY 10466\\n(40.8...  \n",
       "1822  950 LONGFELLOW AVENUE\\nBRONX, NY 10474\\n(40.82...  \n",
       "\n",
       "[1823 rows x 39 columns]"
      ]
     },
     "execution_count": 176,
     "metadata": {},
     "output_type": "execute_result"
    }
   ],
   "source": [
    "df_school_locs"
   ]
  },
  {
   "cell_type": "code",
   "execution_count": null,
   "metadata": {},
   "outputs": [],
   "source": [
    "#how many school buildings total"
   ]
  },
  {
   "cell_type": "code",
   "execution_count": 174,
   "metadata": {},
   "outputs": [
    {
     "data": {
      "text/plain": [
       "1307"
      ]
     },
     "execution_count": 174,
     "metadata": {},
     "output_type": "execute_result"
    }
   ],
   "source": [
    "len(df_school_locs['PRIMARY_BUILDING_CODE'].unique())"
   ]
  },
  {
   "cell_type": "code",
   "execution_count": null,
   "metadata": {},
   "outputs": [],
   "source": [
    "#how many school buildings in the merge wih PLUTO? 96 percent "
   ]
  },
  {
   "cell_type": "code",
   "execution_count": 177,
   "metadata": {},
   "outputs": [
    {
     "data": {
      "text/plain": [
       "1256"
      ]
     },
     "execution_count": 177,
     "metadata": {},
     "output_type": "execute_result"
    }
   ],
   "source": [
    "df_pluto_selected.merge(df_school_locs, left_on='bbl',right_on='BOROUGH_BLOCK_LOT')['PRIMARY_BUILDING_CODE'].nunique()"
   ]
  },
  {
   "cell_type": "code",
   "execution_count": null,
   "metadata": {},
   "outputs": [],
   "source": [
    "#save"
   ]
  },
  {
   "cell_type": "code",
   "execution_count": 179,
   "metadata": {},
   "outputs": [],
   "source": [
    "df_all_schools_years = df_pluto_selected.merge(df_school_locs, left_on='bbl',right_on='BOROUGH_BLOCK_LOT')"
   ]
  },
  {
   "cell_type": "code",
   "execution_count": 198,
   "metadata": {},
   "outputs": [],
   "source": [
    "df_all_schools_years.to_csv('all_schools_years.csv')"
   ]
  },
  {
   "cell_type": "code",
   "execution_count": null,
   "metadata": {},
   "outputs": [],
   "source": [
    "#distribution of years built for most of the schools in the database; red lines represent the different tenures of school building superintendents https://en.wikipedia.org/wiki/Superintendent_of_School_Buildings,_New_York_City"
   ]
  },
  {
   "cell_type": "code",
   "execution_count": 197,
   "metadata": {},
   "outputs": [
    {
     "data": {
      "text/plain": [
       "<matplotlib.lines.Line2D at 0x16c614d10>"
      ]
     },
     "execution_count": 197,
     "metadata": {},
     "output_type": "execute_result"
    },
    {
     "data": {
      "image/png": "[encoded data removed]",
      "text/plain": [
       "<Figure size 432x288 with 1 Axes>"
      ]
     },
     "metadata": {
      "needs_background": "light"
     },
     "output_type": "display_data"
    }
   ],
   "source": [
    "df_all_schools_years[df_all_schools_years['yearbuilt']!=0.0]['yearbuilt'].plot(kind='hist')\n",
    "plt.axvline(x=1891, color='r')\n",
    "plt.axvline(x=1923, color='r')\n",
    "plt.axvline(x=1927, color='r')\n",
    "plt.axvline(x=1938, color='r')\n",
    "plt.axvline(x=1950, color='orange')\n",
    "plt.axvline(x=1970, color='orange')\n",
    "plt.axvline(x=1980, color='orange')\n",
    "plt.axvline(x=1992, color='green')"
   ]
  },
  {
   "cell_type": "code",
   "execution_count": null,
   "metadata": {},
   "outputs": [],
   "source": [
    "#red shows tenures of the school superintendents; orange is rough estimates; green is the passage of the ADA"
   ]
  },
  {
   "cell_type": "code",
   "execution_count": null,
   "metadata": {},
   "outputs": [],
   "source": [
    "#year built distribution for most rated schools "
   ]
  },
  {
   "cell_type": "code",
   "execution_count": 196,
   "metadata": {},
   "outputs": [
    {
     "data": {
      "text/plain": [
       "<matplotlib.lines.Line2D at 0x16c607c90>"
      ]
     },
     "execution_count": 196,
     "metadata": {},
     "output_type": "execute_result"
    },
    {
     "data": {
      "image/png": "[encoded data removed]",
      "text/plain": [
       "<Figure size 432x288 with 1 Axes>"
      ]
     },
     "metadata": {
      "needs_background": "light"
     },
     "output_type": "display_data"
    }
   ],
   "source": [
    "df_real[df_real['yearbuilt']!=0.0]['yearbuilt'].plot(kind='hist')\n",
    "plt.axvline(x=1891, color='r')\n",
    "plt.axvline(x=1923, color='r')\n",
    "plt.axvline(x=1927, color='r')\n",
    "plt.axvline(x=1938, color='r')\n",
    "plt.axvline(x=1950, color='orange')\n",
    "plt.axvline(x=1970, color='orange')\n",
    "plt.axvline(x=1980, color='orange')\n",
    "plt.axvline(x=1992, color='green')"
   ]
  },
  {
   "cell_type": "code",
   "execution_count": null,
   "metadata": {},
   "outputs": [],
   "source": []
  }
 ],
 "metadata": {
  "kernelspec": {
   "display_name": "Python 3",
   "language": "python",
   "name": "python3"
  },
  "language_info": {
   "codemirror_mode": {
    "name": "ipython",
    "version": 3
   },
   "file_extension": ".py",
   "mimetype": "text/x-python",
   "name": "python",
   "nbconvert_exporter": "python",
   "pygments_lexer": "ipython3",
   "version": "3.7.5"
  }
 },
 "nbformat": 4,
 "nbformat_minor": 2
}
