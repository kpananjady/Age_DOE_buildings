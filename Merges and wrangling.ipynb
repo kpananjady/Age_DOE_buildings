{
 "cells": [
  {
   "cell_type": "markdown",
   "metadata": {},
   "source": [
    "# What this file does"
   ]
  },
  {
   "cell_type": "markdown",
   "metadata": {},
   "source": [
    "I want to examine the role of the age of a building on how accessible it is. This file wrangles the data for that analysis to continue in a subsequent jupyter notebook. The final product — used for mapping, correlation analysis and regression — year_built_school.csv. It contains the year built for most of the rated building in the DOE dataset, in addition to other information from the pluto dataset (subsequent alterations, historical district etc)\n",
    "\n",
    "I work with three datasets in this file:\n",
    "\n",
    "1. 2019-2020 School_Locations.csv (https://data.cityofnewyork.us/Education/2017-2018-School-Locations/p6h4-mpyy), because I want to combine DOE Building Codes with Borough Block and Lot codes\n",
    "2. School-NYC-Accessibility-geolocated.csv (https://github.com/kpananjady/Accessibility-NYC-Schools/blob/master/School-NYC-Accessibility-geolocated.csv), because I'm only interested in the codes that have been rated already by the DOE\n",
    "3. pluto_20v1.csv (https://www1.nyc.gov/site/planning/data-maps/open-data/dwn-pluto-mappluto.page), to get the year buildings were built and whether or not they're landmarks/located in historic districts\n",
    "\n",
    "\n",
    "I start by combining school locations and accessibility ratings on DOE building codes, and then combine the resulting file on the Pluto database on borough, block and lot codes. This gives me the year built for most of the rated building in the DOE dataset. \n",
    "\n",
    "I then try to get year built for every single school location — whether or not they've been rated so far. I plot the distribution of construction years for all buildings, and then another histogram for all"
   ]
  },
  {
   "cell_type": "markdown",
   "metadata": {},
   "source": [
    "# Findings"
   ]
  },
  {
   "cell_type": "markdown",
   "metadata": {},
   "source": [
    "For the most part, this worked successfully — I lost 20 of the buildings in the Ratings database when I combined it with the locations file with the DOE building codes. (645-630=15) I then lose 2 more buildings when I combine it with Pluto database on borough, block and lot codes, leaving me with 628 buildings perfectly combined across all three datasets. That's 97 percent of rated schools.\n",
    "\n",
    "If you have ideas about how to go about finding the 17 buildings in the original accessibility dataset that I couldn't combine, let me know.\n",
    "\n",
    "It's interesting to see just how few — relatively speaking — schools were constructed after the 1991 Americans with Disabilities Act was put in place in 1992."
   ]
  },
  {
   "cell_type": "code",
   "execution_count": null,
   "metadata": {},
   "outputs": [],
   "source": [
    "#import pandas"
   ]
  },
  {
   "cell_type": "code",
   "execution_count": 1,
   "metadata": {},
   "outputs": [],
   "source": [
    "import pandas as pd\n",
    "import matplotlib.pyplot as plt"
   ]
  },
  {
   "cell_type": "code",
   "execution_count": 111,
   "metadata": {},
   "outputs": [
    {
     "name": "stdout",
     "output_type": "stream",
     "text": [
      "2017_-_2018_School_Locations.csv        building_code_bbl.csv\r\n",
      "Joins.ipynb                             pluto_20v1.csv\r\n",
      "School-NYC-Accessibility-geolocated.csv year_built_school.csv\r\n",
      "age-doe.qgz\r\n"
     ]
    }
   ],
   "source": [
    "!ls"
   ]
  },
  {
   "cell_type": "markdown",
   "metadata": {},
   "source": [
    "# School_Locations.csv"
   ]
  },
  {
   "cell_type": "code",
   "execution_count": null,
   "metadata": {},
   "outputs": [],
   "source": [
    "#read in; from https://data.cityofnewyork.us/Education/2017-2018-School-Locations/p6h4-mpyy"
   ]
  },
  {
   "cell_type": "code",
   "execution_count": 2,
   "metadata": {},
   "outputs": [],
   "source": [
    "df_school_locs = pd.read_csv('2019_-_2020_School_Locations.csv')"
   ]
  },
  {
   "cell_type": "code",
   "execution_count": 3,
   "metadata": {},
   "outputs": [],
   "source": [
    "#fields ; intersted in building code for merges"
   ]
  },
  {
   "cell_type": "code",
   "execution_count": 4,
   "metadata": {},
   "outputs": [
    {
     "data": {
      "text/plain": [
       "fiscal_year                            int64\n",
       "system_code                           object\n",
       "location_code                         object\n",
       "location_name                         object\n",
       "BEDS                                   int64\n",
       "Managed_by_name                       object\n",
       "location_type_description             object\n",
       "Location_Category_Description         object\n",
       "Grades_text                           object\n",
       "Grades_final_text                     object\n",
       "open_date                             object\n",
       "Status_descriptions                   object\n",
       "Primary_building_code                 object\n",
       "primary_address_line_1                object\n",
       "State_code                            object\n",
       "X_COORDINATE                         float64\n",
       "Y_COORDINATE                         float64\n",
       "LONGITUDE                            float64\n",
       "LATITUDE                             float64\n",
       "Community_district                   float64\n",
       "Council-district                     float64\n",
       "Census_tract                         float64\n",
       "Borough_block_lot                    float64\n",
       "NTA                                   object\n",
       "NTA_Name                              object\n",
       "Principal_Name                        object\n",
       "Principal_title                       object\n",
       "Principal_phone_number                object\n",
       "fax_number                            object\n",
       "Geographical_District_code             int64\n",
       "Administrative_District_Code           int64\n",
       "Administrative_District_Name          object\n",
       "community_school_sup_name             object\n",
       "Tier_3_Support_Location_Name          object\n",
       "Tier_3_Support_Leader_Name            object\n",
       "Tier_2_Support_Location_Name          object\n",
       "HighSchool_Network_Location_Code      object\n",
       "HighSchool_Network_Name               object\n",
       "HighSchool_Network_Superintendent     object\n",
       "Community_district 1                 float64\n",
       "Police_precinct                      float64\n",
       "dtype: object"
      ]
     },
     "execution_count": 4,
     "metadata": {},
     "output_type": "execute_result"
    }
   ],
   "source": [
    "df_school_locs.dtypes"
   ]
  },
  {
   "cell_type": "code",
   "execution_count": null,
   "metadata": {},
   "outputs": [],
   "source": [
    "#grab primary building code for merge with ratings and Borough Block Lot for merge w Pluto"
   ]
  },
  {
   "cell_type": "code",
   "execution_count": 6,
   "metadata": {},
   "outputs": [
    {
     "data": {
      "text/html": [
       "<div>\n",
       "<style scoped>\n",
       "    .dataframe tbody tr th:only-of-type {\n",
       "        vertical-align: middle;\n",
       "    }\n",
       "\n",
       "    .dataframe tbody tr th {\n",
       "        vertical-align: top;\n",
       "    }\n",
       "\n",
       "    .dataframe thead th {\n",
       "        text-align: right;\n",
       "    }\n",
       "</style>\n",
       "<table border=\"1\" class=\"dataframe\">\n",
       "  <thead>\n",
       "    <tr style=\"text-align: right;\">\n",
       "      <th></th>\n",
       "      <th>Primary_building_code</th>\n",
       "      <th>Borough_block_lot</th>\n",
       "      <th>Census_tract</th>\n",
       "    </tr>\n",
       "  </thead>\n",
       "  <tbody>\n",
       "    <tr>\n",
       "      <td>0</td>\n",
       "      <td>K001</td>\n",
       "      <td>3.007550e+09</td>\n",
       "      <td>8000.0</td>\n",
       "    </tr>\n",
       "    <tr>\n",
       "      <td>1</td>\n",
       "      <td>K002</td>\n",
       "      <td>3.050500e+09</td>\n",
       "      <td>80200.0</td>\n",
       "    </tr>\n",
       "    <tr>\n",
       "      <td>2</td>\n",
       "      <td>K003</td>\n",
       "      <td>3.019980e+09</td>\n",
       "      <td>22700.0</td>\n",
       "    </tr>\n",
       "    <tr>\n",
       "      <td>3</td>\n",
       "      <td>K273</td>\n",
       "      <td>3.044010e+09</td>\n",
       "      <td>107800.0</td>\n",
       "    </tr>\n",
       "    <tr>\n",
       "      <td>4</td>\n",
       "      <td>K005</td>\n",
       "      <td>3.014900e+09</td>\n",
       "      <td>37700.0</td>\n",
       "    </tr>\n",
       "    <tr>\n",
       "      <td>...</td>\n",
       "      <td>...</td>\n",
       "      <td>...</td>\n",
       "      <td>...</td>\n",
       "    </tr>\n",
       "    <tr>\n",
       "      <td>2185</td>\n",
       "      <td>XAEX</td>\n",
       "      <td>2.022930e+09</td>\n",
       "      <td>4300.0</td>\n",
       "    </tr>\n",
       "    <tr>\n",
       "      <td>2186</td>\n",
       "      <td>XAFM</td>\n",
       "      <td>2.027550e+09</td>\n",
       "      <td>11502.0</td>\n",
       "    </tr>\n",
       "    <tr>\n",
       "      <td>2187</td>\n",
       "      <td>X155</td>\n",
       "      <td>2.025780e+09</td>\n",
       "      <td>3500.0</td>\n",
       "    </tr>\n",
       "    <tr>\n",
       "      <td>2188</td>\n",
       "      <td>X084</td>\n",
       "      <td>2.030070e+09</td>\n",
       "      <td>12300.0</td>\n",
       "    </tr>\n",
       "    <tr>\n",
       "      <td>2189</td>\n",
       "      <td>X084</td>\n",
       "      <td>2.030070e+09</td>\n",
       "      <td>12300.0</td>\n",
       "    </tr>\n",
       "  </tbody>\n",
       "</table>\n",
       "<p>2190 rows × 3 columns</p>\n",
       "</div>"
      ],
      "text/plain": [
       "     Primary_building_code  Borough_block_lot  Census_tract\n",
       "0                     K001       3.007550e+09        8000.0\n",
       "1                     K002       3.050500e+09       80200.0\n",
       "2                     K003       3.019980e+09       22700.0\n",
       "3                     K273       3.044010e+09      107800.0\n",
       "4                     K005       3.014900e+09       37700.0\n",
       "...                    ...                ...           ...\n",
       "2185                  XAEX       2.022930e+09        4300.0\n",
       "2186                  XAFM       2.027550e+09       11502.0\n",
       "2187                  X155       2.025780e+09        3500.0\n",
       "2188                  X084       2.030070e+09       12300.0\n",
       "2189                  X084       2.030070e+09       12300.0\n",
       "\n",
       "[2190 rows x 3 columns]"
      ]
     },
     "execution_count": 6,
     "metadata": {},
     "output_type": "execute_result"
    }
   ],
   "source": [
    "df_school_locs[['Primary_building_code', 'Borough_block_lot','Census_tract']]"
   ]
  },
  {
   "cell_type": "code",
   "execution_count": 115,
   "metadata": {},
   "outputs": [],
   "source": [
    "#buildings"
   ]
  },
  {
   "cell_type": "code",
   "execution_count": 7,
   "metadata": {},
   "outputs": [
    {
     "data": {
      "text/plain": [
       "1340"
      ]
     },
     "execution_count": 7,
     "metadata": {},
     "output_type": "execute_result"
    }
   ],
   "source": [
    "len(df_school_locs['Primary_building_code'].unique())"
   ]
  },
  {
   "cell_type": "code",
   "execution_count": 117,
   "metadata": {},
   "outputs": [],
   "source": [
    "#school codes"
   ]
  },
  {
   "cell_type": "code",
   "execution_count": 8,
   "metadata": {},
   "outputs": [
    {
     "data": {
      "text/plain": [
       "2131"
      ]
     },
     "execution_count": 8,
     "metadata": {},
     "output_type": "execute_result"
    }
   ],
   "source": [
    "len(df_school_locs['location_code'].unique())"
   ]
  },
  {
   "cell_type": "code",
   "execution_count": null,
   "metadata": {},
   "outputs": [],
   "source": [
    "#all I want is primary building codes and the borough and lot nos; I also don't want the building codes to appear twice bc that esses up my merge"
   ]
  },
  {
   "cell_type": "code",
   "execution_count": 11,
   "metadata": {},
   "outputs": [],
   "source": [
    "df_join_1 = df_school_locs.groupby('Primary_building_code')['Borough_block_lot'].value_counts().to_frame().drop(['Borough_block_lot'], axis=1)"
   ]
  },
  {
   "cell_type": "code",
   "execution_count": null,
   "metadata": {},
   "outputs": [],
   "source": [
    "#.drop(['BOROUGH_BLOCK_LOT'], axis=1)"
   ]
  },
  {
   "cell_type": "code",
   "execution_count": 12,
   "metadata": {},
   "outputs": [
    {
     "data": {
      "text/html": [
       "<div>\n",
       "<style scoped>\n",
       "    .dataframe tbody tr th:only-of-type {\n",
       "        vertical-align: middle;\n",
       "    }\n",
       "\n",
       "    .dataframe tbody tr th {\n",
       "        vertical-align: top;\n",
       "    }\n",
       "\n",
       "    .dataframe thead th {\n",
       "        text-align: right;\n",
       "    }\n",
       "</style>\n",
       "<table border=\"1\" class=\"dataframe\">\n",
       "  <thead>\n",
       "    <tr style=\"text-align: right;\">\n",
       "      <th></th>\n",
       "      <th></th>\n",
       "    </tr>\n",
       "    <tr>\n",
       "      <th>Primary_building_code</th>\n",
       "      <th>Borough_block_lot</th>\n",
       "    </tr>\n",
       "  </thead>\n",
       "  <tbody>\n",
       "    <tr>\n",
       "      <td>K001</td>\n",
       "      <td>3.007550e+09</td>\n",
       "    </tr>\n",
       "    <tr>\n",
       "      <td>K002</td>\n",
       "      <td>3.050500e+09</td>\n",
       "    </tr>\n",
       "    <tr>\n",
       "      <td>K003</td>\n",
       "      <td>3.019980e+09</td>\n",
       "    </tr>\n",
       "    <tr>\n",
       "      <td>K005</td>\n",
       "      <td>3.014900e+09</td>\n",
       "    </tr>\n",
       "    <tr>\n",
       "      <td>K006</td>\n",
       "      <td>3.051030e+09</td>\n",
       "    </tr>\n",
       "    <tr>\n",
       "      <td>...</td>\n",
       "      <td>...</td>\n",
       "    </tr>\n",
       "    <tr>\n",
       "      <td>XBBZ</td>\n",
       "      <td>2.026090e+09</td>\n",
       "    </tr>\n",
       "    <tr>\n",
       "      <td>XBCA</td>\n",
       "      <td>2.023480e+09</td>\n",
       "    </tr>\n",
       "    <tr>\n",
       "      <td>XBPP</td>\n",
       "      <td>2.025740e+09</td>\n",
       "    </tr>\n",
       "    <tr>\n",
       "      <td>XBPS</td>\n",
       "      <td>2.027610e+09</td>\n",
       "    </tr>\n",
       "    <tr>\n",
       "      <td>XBPV</td>\n",
       "      <td>2.035620e+09</td>\n",
       "    </tr>\n",
       "  </tbody>\n",
       "</table>\n",
       "<p>1339 rows × 0 columns</p>\n",
       "</div>"
      ],
      "text/plain": [
       "Empty DataFrame\n",
       "Columns: []\n",
       "Index: [(K001, 3007550022.0), (K002, 3050500051.0), (K003, 3019980001.0), (K005, 3014900001.0), (K006, 3051030079.0), (K007, 3041060039.0), (K008, 3002110001.0), (K009, 3011450026.0), (K010, 3008690001.0), (K011, 3019620010.0), (K012, 3014570032.0), (K013, 3038230001.0), (K014, 3074240001.0), (K015, 3005660001.0), (K016, 3021770001.0), (K017, 3023450001.0), (K018, 3027870001.0), (K019, 3024230001.0), (K020, 3020910003.0), (K021, 3016920017.0), (K022, 3011480050.0), (K023, 3017590013.0), (K024, 3007010001.0), (K025, 3017870014.0), (K026, 3016160001.0), (K027, 3005250001.0), (K029, 3003110001.0), (K031, 3025950001.0), (K032, 3004370001.0), (K033, 3017430018.0), (K034, 3026220028.0), (K035, 3016740011.0), (K038, 3001910001.0), (K039, 3010000001.0), (K040, 3015180001.0), (K041, 3036040001.0), (K043, 3087670026.0), (K044, 3018210001.0), (K045, 3034270011.0), (K046, 3020450011.0), (K048, 3055190001.0), (K049, 3030250001.0), (K050, 3024190001.0), (K051, 3009810111.0), (K052, 3074740001.0), (K054, 3017650015.0), (K055, 3014480001.0), (K056, 3019830010.0), (K057, 3016160001.0), (K058, 3004490015.0), (K059, 3017490001.0), (K061, 3013160015.0), (K062, 3053910001.0), (K066, 3081290060.0), (K067, 3020390002.0), (K068, 3080180001.0), (K069, 3057350032.0), (K071, 3022270001.0), (K072, 3040690001.0), (K073, 3015280001.0), (K075, 3033140001.0), (K078, 3083880002.0), (K081, 3016020019.0), (K084, 3023910001.0), (K085, 3020080001.0), (K086, 3032890027.0), (K088, 3008800001.0), (K090, 3072660040.0), (K091, 3047940026.0), (K092, 3050490055.0), (K093, 3018680007.0), (K094, 3007920026.0), (K095, 3071230066.0), (K096, 3065950033.0), (K097, 3066670024.0), (K099, 3065350011.0), (K100, 3072810001.0), (K101, 3068750032.0), (K102, 3058900001.0), (K104, 3060880001.0), (K105, 3057020001.0), (K106, 3033760034.0), (K107, 3011010001.0), (K108, 3039260045.0), (K110, 3026880042.0), (K111, 3031850001.0), (K112, 3061800001.0), (K113, 3021030004.0), (K114, 3081600022.0), (K115, 3082560001.0), (K116, 3033170001.0), (K117, 3019260010.0), (K119, 3077860001.0), (K120, 3031370026.0), (K121, 3054951101.0), (K123, 3032100001.0), (K124, 3010340001.0), (K126, 3027120001.0), (K127, 3059730001.0), (K128, 3063290032.0), ...]\n",
       "\n",
       "[1339 rows x 0 columns]"
      ]
     },
     "execution_count": 12,
     "metadata": {},
     "output_type": "execute_result"
    }
   ],
   "source": [
    "df_join_1"
   ]
  },
  {
   "cell_type": "code",
   "execution_count": 13,
   "metadata": {},
   "outputs": [],
   "source": [
    "df_join_1.to_csv('building_code_bbl.csv')"
   ]
  },
  {
   "cell_type": "code",
   "execution_count": 60,
   "metadata": {},
   "outputs": [],
   "source": [
    "df_final = pd.read_csv('building_code_bbl.csv')"
   ]
  },
  {
   "cell_type": "markdown",
   "metadata": {},
   "source": [
    "# School-NYC-Accessibility-geolocated.csv"
   ]
  },
  {
   "cell_type": "code",
   "execution_count": null,
   "metadata": {},
   "outputs": [],
   "source": [
    "# read in file; this is the geolocated version I created through my Accessibilty analysis https://github.com/kpananjady/Accessibility-NYC-Schools/blob/master/School-NYC-Accessibility-geolocated.csv"
   ]
  },
  {
   "cell_type": "code",
   "execution_count": 15,
   "metadata": {},
   "outputs": [],
   "source": [
    "df_gelocated= pd.read_csv('School-NYC-Accessibility-geolocated.csv')"
   ]
  },
  {
   "cell_type": "code",
   "execution_count": 16,
   "metadata": {},
   "outputs": [],
   "source": [
    "#fields"
   ]
  },
  {
   "cell_type": "code",
   "execution_count": 17,
   "metadata": {},
   "outputs": [
    {
     "data": {
      "text/plain": [
       "Unnamed: 0                     int64\n",
       "Geographic\\n  District         int64\n",
       "Borough                       object\n",
       "Building Code                 object\n",
       "School DBN                    object\n",
       "Location Code                 object\n",
       "School Name                   object\n",
       "Grades Served                 object\n",
       "Pre-K                         object\n",
       "Address                       object\n",
       "BAP Rating                    object\n",
       "Accessibility Description     object\n",
       "Rating                       float64\n",
       "Address_Full                  object\n",
       "Lat                          float64\n",
       "Lng                          float64\n",
       "dtype: object"
      ]
     },
     "execution_count": 17,
     "metadata": {},
     "output_type": "execute_result"
    }
   ],
   "source": [
    "df_gelocated.dtypes"
   ]
  },
  {
   "cell_type": "code",
   "execution_count": 18,
   "metadata": {},
   "outputs": [],
   "source": [
    "#I'm going to keep codes for join and ratings for regression analysis; lat and lng to make sure I plot in the same exact place"
   ]
  },
  {
   "cell_type": "code",
   "execution_count": 19,
   "metadata": {},
   "outputs": [],
   "source": [
    "df_rated_schools = df_gelocated[['Building Code','Lat','Lng','Rating']]"
   ]
  },
  {
   "cell_type": "code",
   "execution_count": 20,
   "metadata": {},
   "outputs": [],
   "source": [
    "#quick view "
   ]
  },
  {
   "cell_type": "code",
   "execution_count": 21,
   "metadata": {},
   "outputs": [
    {
     "data": {
      "text/html": [
       "<div>\n",
       "<style scoped>\n",
       "    .dataframe tbody tr th:only-of-type {\n",
       "        vertical-align: middle;\n",
       "    }\n",
       "\n",
       "    .dataframe tbody tr th {\n",
       "        vertical-align: top;\n",
       "    }\n",
       "\n",
       "    .dataframe thead th {\n",
       "        text-align: right;\n",
       "    }\n",
       "</style>\n",
       "<table border=\"1\" class=\"dataframe\">\n",
       "  <thead>\n",
       "    <tr style=\"text-align: right;\">\n",
       "      <th></th>\n",
       "      <th>Building Code</th>\n",
       "      <th>Lat</th>\n",
       "      <th>Lng</th>\n",
       "      <th>Rating</th>\n",
       "    </tr>\n",
       "  </thead>\n",
       "  <tbody>\n",
       "    <tr>\n",
       "      <td>0</td>\n",
       "      <td>X040</td>\n",
       "      <td>40.809141</td>\n",
       "      <td>-73.920138</td>\n",
       "      <td>1.0</td>\n",
       "    </tr>\n",
       "    <tr>\n",
       "      <td>1</td>\n",
       "      <td>X040</td>\n",
       "      <td>40.809141</td>\n",
       "      <td>-73.920138</td>\n",
       "      <td>1.0</td>\n",
       "    </tr>\n",
       "    <tr>\n",
       "      <td>2</td>\n",
       "      <td>X040</td>\n",
       "      <td>40.809141</td>\n",
       "      <td>-73.920138</td>\n",
       "      <td>1.0</td>\n",
       "    </tr>\n",
       "    <tr>\n",
       "      <td>3</td>\n",
       "      <td>X065</td>\n",
       "      <td>40.807662</td>\n",
       "      <td>-73.912743</td>\n",
       "      <td>6.0</td>\n",
       "    </tr>\n",
       "    <tr>\n",
       "      <td>4</td>\n",
       "      <td>X065</td>\n",
       "      <td>40.807662</td>\n",
       "      <td>-73.912743</td>\n",
       "      <td>6.0</td>\n",
       "    </tr>\n",
       "    <tr>\n",
       "      <td>...</td>\n",
       "      <td>...</td>\n",
       "      <td>...</td>\n",
       "      <td>...</td>\n",
       "      <td>...</td>\n",
       "    </tr>\n",
       "    <tr>\n",
       "      <td>1196</td>\n",
       "      <td>R861</td>\n",
       "      <td>40.620452</td>\n",
       "      <td>-74.164416</td>\n",
       "      <td>10.0</td>\n",
       "    </tr>\n",
       "    <tr>\n",
       "      <td>1197</td>\n",
       "      <td>R861</td>\n",
       "      <td>40.620452</td>\n",
       "      <td>-74.164416</td>\n",
       "      <td>10.0</td>\n",
       "    </tr>\n",
       "    <tr>\n",
       "      <td>1198</td>\n",
       "      <td>R880</td>\n",
       "      <td>40.608634</td>\n",
       "      <td>-74.105093</td>\n",
       "      <td>4.0</td>\n",
       "    </tr>\n",
       "    <tr>\n",
       "      <td>1199</td>\n",
       "      <td>R880</td>\n",
       "      <td>40.608634</td>\n",
       "      <td>-74.105093</td>\n",
       "      <td>4.0</td>\n",
       "    </tr>\n",
       "    <tr>\n",
       "      <td>1200</td>\n",
       "      <td>R880</td>\n",
       "      <td>40.608634</td>\n",
       "      <td>-74.105093</td>\n",
       "      <td>4.0</td>\n",
       "    </tr>\n",
       "  </tbody>\n",
       "</table>\n",
       "<p>1201 rows × 4 columns</p>\n",
       "</div>"
      ],
      "text/plain": [
       "     Building Code        Lat        Lng  Rating\n",
       "0             X040  40.809141 -73.920138     1.0\n",
       "1             X040  40.809141 -73.920138     1.0\n",
       "2             X040  40.809141 -73.920138     1.0\n",
       "3             X065  40.807662 -73.912743     6.0\n",
       "4             X065  40.807662 -73.912743     6.0\n",
       "...            ...        ...        ...     ...\n",
       "1196          R861  40.620452 -74.164416    10.0\n",
       "1197          R861  40.620452 -74.164416    10.0\n",
       "1198          R880  40.608634 -74.105093     4.0\n",
       "1199          R880  40.608634 -74.105093     4.0\n",
       "1200          R880  40.608634 -74.105093     4.0\n",
       "\n",
       "[1201 rows x 4 columns]"
      ]
     },
     "execution_count": 21,
     "metadata": {},
     "output_type": "execute_result"
    }
   ],
   "source": [
    "df_rated_schools"
   ]
  },
  {
   "cell_type": "code",
   "execution_count": 22,
   "metadata": {},
   "outputs": [],
   "source": [
    "#write over df final w ratigns, and all the "
   ]
  },
  {
   "cell_type": "code",
   "execution_count": 58,
   "metadata": {},
   "outputs": [],
   "source": [
    "df_final = df_rated_schools.merge(df_final, left_on='Building Code', right_on='Primary_building_code')"
   ]
  },
  {
   "cell_type": "code",
   "execution_count": 59,
   "metadata": {},
   "outputs": [
    {
     "data": {
      "text/html": [
       "<div>\n",
       "<style scoped>\n",
       "    .dataframe tbody tr th:only-of-type {\n",
       "        vertical-align: middle;\n",
       "    }\n",
       "\n",
       "    .dataframe tbody tr th {\n",
       "        vertical-align: top;\n",
       "    }\n",
       "\n",
       "    .dataframe thead th {\n",
       "        text-align: right;\n",
       "    }\n",
       "</style>\n",
       "<table border=\"1\" class=\"dataframe\">\n",
       "  <thead>\n",
       "    <tr style=\"text-align: right;\">\n",
       "      <th></th>\n",
       "      <th>Building Code</th>\n",
       "      <th>Lat</th>\n",
       "      <th>Lng</th>\n",
       "      <th>Rating</th>\n",
       "      <th>Primary_building_code</th>\n",
       "      <th>Borough_block_lot</th>\n",
       "    </tr>\n",
       "  </thead>\n",
       "  <tbody>\n",
       "    <tr>\n",
       "      <td>0</td>\n",
       "      <td>X040</td>\n",
       "      <td>40.809141</td>\n",
       "      <td>-73.920138</td>\n",
       "      <td>1.0</td>\n",
       "      <td>X040</td>\n",
       "      <td>2.022840e+09</td>\n",
       "    </tr>\n",
       "    <tr>\n",
       "      <td>1</td>\n",
       "      <td>X040</td>\n",
       "      <td>40.809141</td>\n",
       "      <td>-73.920138</td>\n",
       "      <td>1.0</td>\n",
       "      <td>X040</td>\n",
       "      <td>2.022840e+09</td>\n",
       "    </tr>\n",
       "    <tr>\n",
       "      <td>2</td>\n",
       "      <td>X040</td>\n",
       "      <td>40.809141</td>\n",
       "      <td>-73.920138</td>\n",
       "      <td>1.0</td>\n",
       "      <td>X040</td>\n",
       "      <td>2.022840e+09</td>\n",
       "    </tr>\n",
       "    <tr>\n",
       "      <td>3</td>\n",
       "      <td>X065</td>\n",
       "      <td>40.807662</td>\n",
       "      <td>-73.912743</td>\n",
       "      <td>6.0</td>\n",
       "      <td>X065</td>\n",
       "      <td>2.025710e+09</td>\n",
       "    </tr>\n",
       "    <tr>\n",
       "      <td>4</td>\n",
       "      <td>X065</td>\n",
       "      <td>40.807662</td>\n",
       "      <td>-73.912743</td>\n",
       "      <td>6.0</td>\n",
       "      <td>X065</td>\n",
       "      <td>2.025710e+09</td>\n",
       "    </tr>\n",
       "    <tr>\n",
       "      <td>...</td>\n",
       "      <td>...</td>\n",
       "      <td>...</td>\n",
       "      <td>...</td>\n",
       "      <td>...</td>\n",
       "      <td>...</td>\n",
       "      <td>...</td>\n",
       "    </tr>\n",
       "    <tr>\n",
       "      <td>1178</td>\n",
       "      <td>R861</td>\n",
       "      <td>40.620452</td>\n",
       "      <td>-74.164416</td>\n",
       "      <td>10.0</td>\n",
       "      <td>R861</td>\n",
       "      <td>5.016530e+09</td>\n",
       "    </tr>\n",
       "    <tr>\n",
       "      <td>1179</td>\n",
       "      <td>R861</td>\n",
       "      <td>40.620452</td>\n",
       "      <td>-74.164416</td>\n",
       "      <td>10.0</td>\n",
       "      <td>R861</td>\n",
       "      <td>5.016530e+09</td>\n",
       "    </tr>\n",
       "    <tr>\n",
       "      <td>1180</td>\n",
       "      <td>R880</td>\n",
       "      <td>40.608634</td>\n",
       "      <td>-74.105093</td>\n",
       "      <td>4.0</td>\n",
       "      <td>R880</td>\n",
       "      <td>5.006830e+09</td>\n",
       "    </tr>\n",
       "    <tr>\n",
       "      <td>1181</td>\n",
       "      <td>R880</td>\n",
       "      <td>40.608634</td>\n",
       "      <td>-74.105093</td>\n",
       "      <td>4.0</td>\n",
       "      <td>R880</td>\n",
       "      <td>5.006830e+09</td>\n",
       "    </tr>\n",
       "    <tr>\n",
       "      <td>1182</td>\n",
       "      <td>R880</td>\n",
       "      <td>40.608634</td>\n",
       "      <td>-74.105093</td>\n",
       "      <td>4.0</td>\n",
       "      <td>R880</td>\n",
       "      <td>5.006830e+09</td>\n",
       "    </tr>\n",
       "  </tbody>\n",
       "</table>\n",
       "<p>1183 rows × 6 columns</p>\n",
       "</div>"
      ],
      "text/plain": [
       "     Building Code        Lat        Lng  Rating Primary_building_code  \\\n",
       "0             X040  40.809141 -73.920138     1.0                  X040   \n",
       "1             X040  40.809141 -73.920138     1.0                  X040   \n",
       "2             X040  40.809141 -73.920138     1.0                  X040   \n",
       "3             X065  40.807662 -73.912743     6.0                  X065   \n",
       "4             X065  40.807662 -73.912743     6.0                  X065   \n",
       "...            ...        ...        ...     ...                   ...   \n",
       "1178          R861  40.620452 -74.164416    10.0                  R861   \n",
       "1179          R861  40.620452 -74.164416    10.0                  R861   \n",
       "1180          R880  40.608634 -74.105093     4.0                  R880   \n",
       "1181          R880  40.608634 -74.105093     4.0                  R880   \n",
       "1182          R880  40.608634 -74.105093     4.0                  R880   \n",
       "\n",
       "      Borough_block_lot  \n",
       "0          2.022840e+09  \n",
       "1          2.022840e+09  \n",
       "2          2.022840e+09  \n",
       "3          2.025710e+09  \n",
       "4          2.025710e+09  \n",
       "...                 ...  \n",
       "1178       5.016530e+09  \n",
       "1179       5.016530e+09  \n",
       "1180       5.006830e+09  \n",
       "1181       5.006830e+09  \n",
       "1182       5.006830e+09  \n",
       "\n",
       "[1183 rows x 6 columns]"
      ]
     },
     "execution_count": 59,
     "metadata": {},
     "output_type": "execute_result"
    }
   ],
   "source": [
    "df_final"
   ]
  },
  {
   "cell_type": "code",
   "execution_count": null,
   "metadata": {},
   "outputs": [],
   "source": [
    "#note: there were 1201 schools in geolocated database; looks like we lost about 20 schools here? "
   ]
  },
  {
   "cell_type": "code",
   "execution_count": 25,
   "metadata": {},
   "outputs": [
    {
     "data": {
      "text/plain": [
       "630"
      ]
     },
     "execution_count": 25,
     "metadata": {},
     "output_type": "execute_result"
    }
   ],
   "source": [
    "df_final['Primary_building_code'].nunique()"
   ]
  },
  {
   "cell_type": "code",
   "execution_count": 26,
   "metadata": {},
   "outputs": [
    {
     "data": {
      "text/plain": [
       "645"
      ]
     },
     "execution_count": 26,
     "metadata": {},
     "output_type": "execute_result"
    }
   ],
   "source": [
    "df_rated_schools['Building Code'].nunique()"
   ]
  },
  {
   "cell_type": "code",
   "execution_count": null,
   "metadata": {},
   "outputs": [],
   "source": [
    "#we've lost 15 buildings that didn't match on location code"
   ]
  },
  {
   "cell_type": "markdown",
   "metadata": {},
   "source": [
    "# Pluto"
   ]
  },
  {
   "cell_type": "code",
   "execution_count": 27,
   "metadata": {},
   "outputs": [],
   "source": [
    "#read in pluto from https://www1.nyc.gov/site/planning/data-maps/open-data/dwn-pluto-mappluto.page"
   ]
  },
  {
   "cell_type": "code",
   "execution_count": 28,
   "metadata": {},
   "outputs": [
    {
     "name": "stderr",
     "output_type": "stream",
     "text": [
      "/usr/local/lib/python3.7/site-packages/IPython/core/interactiveshell.py:3058: DtypeWarning: Columns (17,18,20,22) have mixed types. Specify dtype option on import or set low_memory=False.\n",
      "  interactivity=interactivity, compiler=compiler, result=result)\n"
     ]
    }
   ],
   "source": [
    "df_pluto = pd.read_csv('pluto_20v1.csv')"
   ]
  },
  {
   "cell_type": "code",
   "execution_count": null,
   "metadata": {},
   "outputs": [],
   "source": [
    "#data dictionary https://www1.nyc.gov/assets/planning/download/pdf/data-maps/open-data/pluto_datadictionary.pdf?v=20v1"
   ]
  },
  {
   "cell_type": "code",
   "execution_count": 29,
   "metadata": {},
   "outputs": [
    {
     "data": {
      "text/plain": [
       "borough        object\n",
       "block           int64\n",
       "lot             int64\n",
       "cd            float64\n",
       "ct2010        float64\n",
       "cb2010        float64\n",
       "schooldist    float64\n",
       "council       float64\n",
       "zipcode       float64\n",
       "firecomp       object\n",
       "policeprct    float64\n",
       "healtharea    float64\n",
       "sanitboro     float64\n",
       "sanitsub       object\n",
       "address        object\n",
       "zonedist1      object\n",
       "zonedist2      object\n",
       "zonedist3      object\n",
       "zonedist4      object\n",
       "overlay1       object\n",
       "overlay2       object\n",
       "spdist1        object\n",
       "spdist2        object\n",
       "spdist3       float64\n",
       "ltdheight      object\n",
       "splitzone      object\n",
       "bldgclass      object\n",
       "landuse       float64\n",
       "easements     float64\n",
       "ownertype      object\n",
       "ownername      object\n",
       "lotarea       float64\n",
       "bldgarea      float64\n",
       "comarea       float64\n",
       "resarea       float64\n",
       "officearea    float64\n",
       "retailarea    float64\n",
       "garagearea    float64\n",
       "strgearea     float64\n",
       "factryarea    float64\n",
       "otherarea     float64\n",
       "areasource    float64\n",
       "numbldgs      float64\n",
       "numfloors     float64\n",
       "unitsres      float64\n",
       "unitstotal    float64\n",
       "lotfront      float64\n",
       "lotdepth      float64\n",
       "bldgfront     float64\n",
       "bldgdepth     float64\n",
       "dtype: object"
      ]
     },
     "execution_count": 29,
     "metadata": {},
     "output_type": "execute_result"
    }
   ],
   "source": [
    "df_pluto.dtypes.head(50)"
   ]
  },
  {
   "cell_type": "code",
   "execution_count": 30,
   "metadata": {},
   "outputs": [
    {
     "data": {
      "text/plain": [
       "bldgdepth               float64\n",
       "ext                      object\n",
       "proxcode                float64\n",
       "irrlotcode               object\n",
       "lottype                 float64\n",
       "bsmtcode                float64\n",
       "assessland              float64\n",
       "assesstot               float64\n",
       "exempttot               float64\n",
       "yearbuilt               float64\n",
       "yearalter1              float64\n",
       "yearalter2              float64\n",
       "histdist                 object\n",
       "landmark                 object\n",
       "builtfar                float64\n",
       "residfar                float64\n",
       "commfar                 float64\n",
       "facilfar                float64\n",
       "borocode                  int64\n",
       "bbl                       int64\n",
       "condono                 float64\n",
       "tract2010               float64\n",
       "xcoord                  float64\n",
       "ycoord                  float64\n",
       "latitude                float64\n",
       "longitude               float64\n",
       "zonemap                  object\n",
       "zmcode                   object\n",
       "sanborn                  object\n",
       "taxmap                  float64\n",
       "edesignum               float64\n",
       "appbbl                  float64\n",
       "appdate                  object\n",
       "plutomapid                int64\n",
       "version                  object\n",
       "sanitdistrict           float64\n",
       "healthcenterdistrict    float64\n",
       "firm07_flag             float64\n",
       "pfirm15_flag            float64\n",
       "rpaddate                float64\n",
       "dcasdate                float64\n",
       "zoningdate              float64\n",
       "landmkdate              float64\n",
       "basempdate              float64\n",
       "masdate                 float64\n",
       "polidate                float64\n",
       "edesigdate              float64\n",
       "geom                     object\n",
       "dcpedited                object\n",
       "notes                   float64\n",
       "dtype: object"
      ]
     },
     "execution_count": 30,
     "metadata": {},
     "output_type": "execute_result"
    }
   ],
   "source": [
    "df_pluto.dtypes.tail(50)"
   ]
  },
  {
   "cell_type": "code",
   "execution_count": 31,
   "metadata": {},
   "outputs": [],
   "source": [
    "#pull out landmark status, borough block lot no, years altered, historical district status, coords"
   ]
  },
  {
   "cell_type": "code",
   "execution_count": 32,
   "metadata": {},
   "outputs": [],
   "source": [
    "df_pluto_selected = df_pluto[['landmark','bbl','yearbuilt','yearalter1','yearalter2', 'histdist','xcoord','ycoord']]"
   ]
  },
  {
   "cell_type": "code",
   "execution_count": 33,
   "metadata": {},
   "outputs": [],
   "source": [
    "#quick view"
   ]
  },
  {
   "cell_type": "code",
   "execution_count": 34,
   "metadata": {},
   "outputs": [
    {
     "data": {
      "text/html": [
       "<div>\n",
       "<style scoped>\n",
       "    .dataframe tbody tr th:only-of-type {\n",
       "        vertical-align: middle;\n",
       "    }\n",
       "\n",
       "    .dataframe tbody tr th {\n",
       "        vertical-align: top;\n",
       "    }\n",
       "\n",
       "    .dataframe thead th {\n",
       "        text-align: right;\n",
       "    }\n",
       "</style>\n",
       "<table border=\"1\" class=\"dataframe\">\n",
       "  <thead>\n",
       "    <tr style=\"text-align: right;\">\n",
       "      <th></th>\n",
       "      <th>landmark</th>\n",
       "      <th>bbl</th>\n",
       "      <th>yearbuilt</th>\n",
       "      <th>yearalter1</th>\n",
       "      <th>yearalter2</th>\n",
       "      <th>histdist</th>\n",
       "      <th>xcoord</th>\n",
       "      <th>ycoord</th>\n",
       "    </tr>\n",
       "  </thead>\n",
       "  <tbody>\n",
       "    <tr>\n",
       "      <td>0</td>\n",
       "      <td>NaN</td>\n",
       "      <td>3008340046</td>\n",
       "      <td>1931.0</td>\n",
       "      <td>0.0</td>\n",
       "      <td>0.0</td>\n",
       "      <td>NaN</td>\n",
       "      <td>982211.0</td>\n",
       "      <td>171707.0</td>\n",
       "    </tr>\n",
       "    <tr>\n",
       "      <td>1</td>\n",
       "      <td>NaN</td>\n",
       "      <td>4040420106</td>\n",
       "      <td>1910.0</td>\n",
       "      <td>0.0</td>\n",
       "      <td>0.0</td>\n",
       "      <td>NaN</td>\n",
       "      <td>1026895.0</td>\n",
       "      <td>225880.0</td>\n",
       "    </tr>\n",
       "    <tr>\n",
       "      <td>2</td>\n",
       "      <td>NaN</td>\n",
       "      <td>3046790017</td>\n",
       "      <td>1920.0</td>\n",
       "      <td>0.0</td>\n",
       "      <td>0.0</td>\n",
       "      <td>NaN</td>\n",
       "      <td>1004527.0</td>\n",
       "      <td>177269.0</td>\n",
       "    </tr>\n",
       "    <tr>\n",
       "      <td>3</td>\n",
       "      <td>NaN</td>\n",
       "      <td>3078310006</td>\n",
       "      <td>1920.0</td>\n",
       "      <td>0.0</td>\n",
       "      <td>0.0</td>\n",
       "      <td>NaN</td>\n",
       "      <td>1004804.0</td>\n",
       "      <td>166580.0</td>\n",
       "    </tr>\n",
       "    <tr>\n",
       "      <td>4</td>\n",
       "      <td>NaN</td>\n",
       "      <td>3078310007</td>\n",
       "      <td>1920.0</td>\n",
       "      <td>0.0</td>\n",
       "      <td>0.0</td>\n",
       "      <td>NaN</td>\n",
       "      <td>1004784.0</td>\n",
       "      <td>166579.0</td>\n",
       "    </tr>\n",
       "    <tr>\n",
       "      <td>...</td>\n",
       "      <td>...</td>\n",
       "      <td>...</td>\n",
       "      <td>...</td>\n",
       "      <td>...</td>\n",
       "      <td>...</td>\n",
       "      <td>...</td>\n",
       "      <td>...</td>\n",
       "      <td>...</td>\n",
       "    </tr>\n",
       "    <tr>\n",
       "      <td>859167</td>\n",
       "      <td>NaN</td>\n",
       "      <td>2046560045</td>\n",
       "      <td>1920.0</td>\n",
       "      <td>0.0</td>\n",
       "      <td>0.0</td>\n",
       "      <td>NaN</td>\n",
       "      <td>1022358.0</td>\n",
       "      <td>261858.0</td>\n",
       "    </tr>\n",
       "    <tr>\n",
       "      <td>859168</td>\n",
       "      <td>NaN</td>\n",
       "      <td>4086200038</td>\n",
       "      <td>1935.0</td>\n",
       "      <td>0.0</td>\n",
       "      <td>0.0</td>\n",
       "      <td>NaN</td>\n",
       "      <td>1063503.0</td>\n",
       "      <td>206551.0</td>\n",
       "    </tr>\n",
       "    <tr>\n",
       "      <td>859169</td>\n",
       "      <td>NaN</td>\n",
       "      <td>3025750023</td>\n",
       "      <td>1901.0</td>\n",
       "      <td>2010.0</td>\n",
       "      <td>2018.0</td>\n",
       "      <td>NaN</td>\n",
       "      <td>997519.0</td>\n",
       "      <td>204933.0</td>\n",
       "    </tr>\n",
       "    <tr>\n",
       "      <td>859170</td>\n",
       "      <td>NaN</td>\n",
       "      <td>1020230046</td>\n",
       "      <td>1891.0</td>\n",
       "      <td>0.0</td>\n",
       "      <td>0.0</td>\n",
       "      <td>St. Nicholas Historic District</td>\n",
       "      <td>999843.0</td>\n",
       "      <td>237139.0</td>\n",
       "    </tr>\n",
       "    <tr>\n",
       "      <td>859171</td>\n",
       "      <td>NaN</td>\n",
       "      <td>1020590008</td>\n",
       "      <td>1893.0</td>\n",
       "      <td>0.0</td>\n",
       "      <td>0.0</td>\n",
       "      <td>Hamilton Heights Historic District</td>\n",
       "      <td>998733.0</td>\n",
       "      <td>239420.0</td>\n",
       "    </tr>\n",
       "  </tbody>\n",
       "</table>\n",
       "<p>859172 rows × 8 columns</p>\n",
       "</div>"
      ],
      "text/plain": [
       "       landmark         bbl  yearbuilt  yearalter1  yearalter2  \\\n",
       "0           NaN  3008340046     1931.0         0.0         0.0   \n",
       "1           NaN  4040420106     1910.0         0.0         0.0   \n",
       "2           NaN  3046790017     1920.0         0.0         0.0   \n",
       "3           NaN  3078310006     1920.0         0.0         0.0   \n",
       "4           NaN  3078310007     1920.0         0.0         0.0   \n",
       "...         ...         ...        ...         ...         ...   \n",
       "859167      NaN  2046560045     1920.0         0.0         0.0   \n",
       "859168      NaN  4086200038     1935.0         0.0         0.0   \n",
       "859169      NaN  3025750023     1901.0      2010.0      2018.0   \n",
       "859170      NaN  1020230046     1891.0         0.0         0.0   \n",
       "859171      NaN  1020590008     1893.0         0.0         0.0   \n",
       "\n",
       "                                  histdist     xcoord    ycoord  \n",
       "0                                      NaN   982211.0  171707.0  \n",
       "1                                      NaN  1026895.0  225880.0  \n",
       "2                                      NaN  1004527.0  177269.0  \n",
       "3                                      NaN  1004804.0  166580.0  \n",
       "4                                      NaN  1004784.0  166579.0  \n",
       "...                                    ...        ...       ...  \n",
       "859167                                 NaN  1022358.0  261858.0  \n",
       "859168                                 NaN  1063503.0  206551.0  \n",
       "859169                                 NaN   997519.0  204933.0  \n",
       "859170      St. Nicholas Historic District   999843.0  237139.0  \n",
       "859171  Hamilton Heights Historic District   998733.0  239420.0  \n",
       "\n",
       "[859172 rows x 8 columns]"
      ]
     },
     "execution_count": 34,
     "metadata": {},
     "output_type": "execute_result"
    }
   ],
   "source": [
    "df_pluto_selected"
   ]
  },
  {
   "cell_type": "code",
   "execution_count": 35,
   "metadata": {},
   "outputs": [],
   "source": [
    "#distribution of years built for all buildings in the city that aren't zero"
   ]
  },
  {
   "cell_type": "code",
   "execution_count": 36,
   "metadata": {},
   "outputs": [
    {
     "data": {
      "text/plain": [
       "<matplotlib.axes._subplots.AxesSubplot at 0x113acb590>"
      ]
     },
     "execution_count": 36,
     "metadata": {},
     "output_type": "execute_result"
    },
    {
     "data": {
      "image/png": "[encoded data removed]",
      "text/plain": [
       "<Figure size 432x288 with 1 Axes>"
      ]
     },
     "metadata": {
      "needs_background": "light"
     },
     "output_type": "display_data"
    }
   ],
   "source": [
    "df_pluto_selected['yearbuilt'][df_pluto_selected['yearbuilt']!=0.0].plot(kind='hist')"
   ]
  },
  {
   "cell_type": "code",
   "execution_count": 37,
   "metadata": {},
   "outputs": [],
   "source": [
    "#combine with pluto on borough block and lot numbers; save progress"
   ]
  },
  {
   "cell_type": "code",
   "execution_count": 42,
   "metadata": {},
   "outputs": [],
   "source": [
    "df_pluto_selected.merge(df_final, left_on='bbl',right_on='Borough_block_lot').to_csv('year_built_school.csv')"
   ]
  },
  {
   "cell_type": "code",
   "execution_count": 43,
   "metadata": {},
   "outputs": [],
   "source": [
    "#read the file back in "
   ]
  },
  {
   "cell_type": "code",
   "execution_count": 44,
   "metadata": {},
   "outputs": [],
   "source": [
    "df_real = pd.read_csv('year_built_school.csv')"
   ]
  },
  {
   "cell_type": "code",
   "execution_count": 45,
   "metadata": {},
   "outputs": [],
   "source": [
    "#we've got 628 buildings combined successfully"
   ]
  },
  {
   "cell_type": "code",
   "execution_count": 46,
   "metadata": {},
   "outputs": [
    {
     "data": {
      "text/plain": [
       "628"
      ]
     },
     "execution_count": 46,
     "metadata": {},
     "output_type": "execute_result"
    }
   ],
   "source": [
    "df_real['Building Code'].nunique()"
   ]
  },
  {
   "cell_type": "markdown",
   "metadata": {},
   "source": [
    "# Distributions"
   ]
  },
  {
   "cell_type": "markdown",
   "metadata": {},
   "source": [
    "School Builings"
   ]
  },
  {
   "cell_type": "code",
   "execution_count": 47,
   "metadata": {},
   "outputs": [
    {
     "data": {
      "text/html": [
       "<div>\n",
       "<style scoped>\n",
       "    .dataframe tbody tr th:only-of-type {\n",
       "        vertical-align: middle;\n",
       "    }\n",
       "\n",
       "    .dataframe tbody tr th {\n",
       "        vertical-align: top;\n",
       "    }\n",
       "\n",
       "    .dataframe thead th {\n",
       "        text-align: right;\n",
       "    }\n",
       "</style>\n",
       "<table border=\"1\" class=\"dataframe\">\n",
       "  <thead>\n",
       "    <tr style=\"text-align: right;\">\n",
       "      <th></th>\n",
       "      <th>fiscal_year</th>\n",
       "      <th>system_code</th>\n",
       "      <th>location_code</th>\n",
       "      <th>location_name</th>\n",
       "      <th>BEDS</th>\n",
       "      <th>Managed_by_name</th>\n",
       "      <th>location_type_description</th>\n",
       "      <th>Location_Category_Description</th>\n",
       "      <th>Grades_text</th>\n",
       "      <th>Grades_final_text</th>\n",
       "      <th>...</th>\n",
       "      <th>Administrative_District_Name</th>\n",
       "      <th>community_school_sup_name</th>\n",
       "      <th>Tier_3_Support_Location_Name</th>\n",
       "      <th>Tier_3_Support_Leader_Name</th>\n",
       "      <th>Tier_2_Support_Location_Name</th>\n",
       "      <th>HighSchool_Network_Location_Code</th>\n",
       "      <th>HighSchool_Network_Name</th>\n",
       "      <th>HighSchool_Network_Superintendent</th>\n",
       "      <th>Community_district 1</th>\n",
       "      <th>Police_precinct</th>\n",
       "    </tr>\n",
       "  </thead>\n",
       "  <tbody>\n",
       "    <tr>\n",
       "      <td>0</td>\n",
       "      <td>2020</td>\n",
       "      <td>15K001</td>\n",
       "      <td>K001</td>\n",
       "      <td>P.S. 001 The Bergen</td>\n",
       "      <td>331500010001</td>\n",
       "      <td>DOE</td>\n",
       "      <td>General Academic</td>\n",
       "      <td>Elementary</td>\n",
       "      <td>PK,0K,01,02,03,04,05,SE</td>\n",
       "      <td>PK,0K,01,02,03,04,05</td>\n",
       "      <td>...</td>\n",
       "      <td>COMMUNITY SCHOOL DISTRICT 15</td>\n",
       "      <td>SKOP, ANITA</td>\n",
       "      <td>NYCDOE Borough Office - Brooklyn North</td>\n",
       "      <td>NaN</td>\n",
       "      <td>School Support Team 5- Brooklyn North</td>\n",
       "      <td>NaN</td>\n",
       "      <td>NaN</td>\n",
       "      <td>NaN</td>\n",
       "      <td>307.0</td>\n",
       "      <td>72.0</td>\n",
       "    </tr>\n",
       "    <tr>\n",
       "      <td>1</td>\n",
       "      <td>2020</td>\n",
       "      <td>17K002</td>\n",
       "      <td>K002</td>\n",
       "      <td>Parkside Preparatory Academy</td>\n",
       "      <td>331700010002</td>\n",
       "      <td>DOE</td>\n",
       "      <td>General Academic</td>\n",
       "      <td>Junior High-Intermediate-Middle</td>\n",
       "      <td>06,07,08,SE</td>\n",
       "      <td>06,07,08</td>\n",
       "      <td>...</td>\n",
       "      <td>COMMUNITY SCHOOL DISTRICT 17</td>\n",
       "      <td>ELLIS, CLARENCE</td>\n",
       "      <td>NYCDOE Borough Office - Brooklyn South</td>\n",
       "      <td>Mauriciere de Govia</td>\n",
       "      <td>School Support Team 2- Brooklyn South</td>\n",
       "      <td>NaN</td>\n",
       "      <td>NaN</td>\n",
       "      <td>NaN</td>\n",
       "      <td>309.0</td>\n",
       "      <td>71.0</td>\n",
       "    </tr>\n",
       "    <tr>\n",
       "      <td>2</td>\n",
       "      <td>2020</td>\n",
       "      <td>13K003</td>\n",
       "      <td>K003</td>\n",
       "      <td>P.S. 003 The Bedford Village</td>\n",
       "      <td>331300010003</td>\n",
       "      <td>DOE</td>\n",
       "      <td>General Academic</td>\n",
       "      <td>Elementary</td>\n",
       "      <td>PK,0K,01,02,03,04,05,SE</td>\n",
       "      <td>PK,0K,01,02,03,04,05</td>\n",
       "      <td>...</td>\n",
       "      <td>COMMUNITY SCHOOL DISTRICT 13</td>\n",
       "      <td>SAMUELS, KAMAR</td>\n",
       "      <td>NYCDOE Borough Office - Brooklyn North</td>\n",
       "      <td>NaN</td>\n",
       "      <td>School Support Team 3- Brooklyn North</td>\n",
       "      <td>NaN</td>\n",
       "      <td>NaN</td>\n",
       "      <td>NaN</td>\n",
       "      <td>303.0</td>\n",
       "      <td>79.0</td>\n",
       "    </tr>\n",
       "    <tr>\n",
       "      <td>3</td>\n",
       "      <td>2020</td>\n",
       "      <td>75K004</td>\n",
       "      <td>K004</td>\n",
       "      <td>P.S. K004</td>\n",
       "      <td>307500013004</td>\n",
       "      <td>DOE</td>\n",
       "      <td>Special Education</td>\n",
       "      <td>Elementary</td>\n",
       "      <td>PK,0K,01,02,03,04,05,SE</td>\n",
       "      <td>PK,0K,01,02,03,04,05,06,07,SE</td>\n",
       "      <td>...</td>\n",
       "      <td>CITYWIDE SPECIAL EDUCATION</td>\n",
       "      <td>LOUISSAINT, KETLER</td>\n",
       "      <td>D75 CITYWIDE BCO</td>\n",
       "      <td>Tillman Roberto</td>\n",
       "      <td>Children First Network 752</td>\n",
       "      <td>NaN</td>\n",
       "      <td>NaN</td>\n",
       "      <td>NaN</td>\n",
       "      <td>305.0</td>\n",
       "      <td>75.0</td>\n",
       "    </tr>\n",
       "    <tr>\n",
       "      <td>4</td>\n",
       "      <td>2020</td>\n",
       "      <td>16K005</td>\n",
       "      <td>K005</td>\n",
       "      <td>P.S. 005 Dr. Ronald McNair</td>\n",
       "      <td>331600010005</td>\n",
       "      <td>DOE</td>\n",
       "      <td>General Academic</td>\n",
       "      <td>Elementary</td>\n",
       "      <td>PK,0K,01,02,03,04,05,SE</td>\n",
       "      <td>PK,0K,01,02,03,04,05</td>\n",
       "      <td>...</td>\n",
       "      <td>COMMUNITY SCHOOL DISTRICT 16</td>\n",
       "      <td>MARTIN, YOLANDA</td>\n",
       "      <td>NYCDOE Borough Office - Brooklyn North</td>\n",
       "      <td>NaN</td>\n",
       "      <td>School Support Team 4- Brooklyn North</td>\n",
       "      <td>NaN</td>\n",
       "      <td>NaN</td>\n",
       "      <td>NaN</td>\n",
       "      <td>303.0</td>\n",
       "      <td>81.0</td>\n",
       "    </tr>\n",
       "    <tr>\n",
       "      <td>...</td>\n",
       "      <td>...</td>\n",
       "      <td>...</td>\n",
       "      <td>...</td>\n",
       "      <td>...</td>\n",
       "      <td>...</td>\n",
       "      <td>...</td>\n",
       "      <td>...</td>\n",
       "      <td>...</td>\n",
       "      <td>...</td>\n",
       "      <td>...</td>\n",
       "      <td>...</td>\n",
       "      <td>...</td>\n",
       "      <td>...</td>\n",
       "      <td>...</td>\n",
       "      <td>...</td>\n",
       "      <td>...</td>\n",
       "      <td>...</td>\n",
       "      <td>...</td>\n",
       "      <td>...</td>\n",
       "      <td>...</td>\n",
       "      <td>...</td>\n",
       "    </tr>\n",
       "    <tr>\n",
       "      <td>2185</td>\n",
       "      <td>2020</td>\n",
       "      <td>84X729</td>\n",
       "      <td>X729</td>\n",
       "      <td>Readnet Bronx Charter School</td>\n",
       "      <td>320700860842</td>\n",
       "      <td>Charter</td>\n",
       "      <td>General Academic</td>\n",
       "      <td>Elementary</td>\n",
       "      <td>01,02</td>\n",
       "      <td>NaN</td>\n",
       "      <td>...</td>\n",
       "      <td>OFFICE OF CHARTER SCHOOLS</td>\n",
       "      <td>NaN</td>\n",
       "      <td>NaN</td>\n",
       "      <td>NaN</td>\n",
       "      <td>NaN</td>\n",
       "      <td>NaN</td>\n",
       "      <td>NaN</td>\n",
       "      <td>NaN</td>\n",
       "      <td>201.0</td>\n",
       "      <td>40.0</td>\n",
       "    </tr>\n",
       "    <tr>\n",
       "      <td>2186</td>\n",
       "      <td>2020</td>\n",
       "      <td>84X730</td>\n",
       "      <td>X730</td>\n",
       "      <td>Bronx Charter School for the Arts</td>\n",
       "      <td>320800860846</td>\n",
       "      <td>Charter</td>\n",
       "      <td>General Academic</td>\n",
       "      <td>Elementary</td>\n",
       "      <td>0K,01,02,03,04,05,06,07</td>\n",
       "      <td>0K,01,02,03,04,05,06,07,08</td>\n",
       "      <td>...</td>\n",
       "      <td>OFFICE OF CHARTER SCHOOLS</td>\n",
       "      <td>NaN</td>\n",
       "      <td>NaN</td>\n",
       "      <td>NaN</td>\n",
       "      <td>NaN</td>\n",
       "      <td>NaN</td>\n",
       "      <td>NaN</td>\n",
       "      <td>NaN</td>\n",
       "      <td>202.0</td>\n",
       "      <td>41.0</td>\n",
       "    </tr>\n",
       "    <tr>\n",
       "      <td>2187</td>\n",
       "      <td>2020</td>\n",
       "      <td>75X754</td>\n",
       "      <td>X754</td>\n",
       "      <td>J. M. Rapport School Career Development</td>\n",
       "      <td>307500012754</td>\n",
       "      <td>DOE</td>\n",
       "      <td>Special Education</td>\n",
       "      <td>High school</td>\n",
       "      <td>09,10,11,12,SE</td>\n",
       "      <td>09,10,11,12,SE</td>\n",
       "      <td>...</td>\n",
       "      <td>CITYWIDE SPECIAL EDUCATION</td>\n",
       "      <td>LOUISSAINT, KETLER</td>\n",
       "      <td>D75 CITYWIDE BCO</td>\n",
       "      <td>Tillman Roberto</td>\n",
       "      <td>Children First Network 755</td>\n",
       "      <td>NaN</td>\n",
       "      <td>NaN</td>\n",
       "      <td>NaN</td>\n",
       "      <td>201.0</td>\n",
       "      <td>40.0</td>\n",
       "    </tr>\n",
       "    <tr>\n",
       "      <td>2188</td>\n",
       "      <td>2020</td>\n",
       "      <td>75X811</td>\n",
       "      <td>X811</td>\n",
       "      <td>P.S. X811</td>\n",
       "      <td>307500012811</td>\n",
       "      <td>DOE</td>\n",
       "      <td>Special Education</td>\n",
       "      <td>Secondary School</td>\n",
       "      <td>08,09,10,11,12,SE</td>\n",
       "      <td>07,08,09,10,11,12,SE</td>\n",
       "      <td>...</td>\n",
       "      <td>CITYWIDE SPECIAL EDUCATION</td>\n",
       "      <td>LOUISSAINT, KETLER</td>\n",
       "      <td>D75 CITYWIDE BCO</td>\n",
       "      <td>Tillman Roberto</td>\n",
       "      <td>Children First Network 755</td>\n",
       "      <td>NaN</td>\n",
       "      <td>NaN</td>\n",
       "      <td>NaN</td>\n",
       "      <td>203.0</td>\n",
       "      <td>42.0</td>\n",
       "    </tr>\n",
       "    <tr>\n",
       "      <td>2189</td>\n",
       "      <td>2020</td>\n",
       "      <td>75X811</td>\n",
       "      <td>X811</td>\n",
       "      <td>P.S. X811</td>\n",
       "      <td>307500012811</td>\n",
       "      <td>DOE</td>\n",
       "      <td>Special Education</td>\n",
       "      <td>Secondary School</td>\n",
       "      <td>08,09,10,11,12,SE</td>\n",
       "      <td>07,08,09,10,11,12,SE</td>\n",
       "      <td>...</td>\n",
       "      <td>CITYWIDE SPECIAL EDUCATION</td>\n",
       "      <td>LOUISSAINT, KETLER</td>\n",
       "      <td>D75 CITYWIDE BCO</td>\n",
       "      <td>Tillman Roberto</td>\n",
       "      <td>Children First Network 755</td>\n",
       "      <td>NaN</td>\n",
       "      <td>NaN</td>\n",
       "      <td>NaN</td>\n",
       "      <td>203.0</td>\n",
       "      <td>42.0</td>\n",
       "    </tr>\n",
       "  </tbody>\n",
       "</table>\n",
       "<p>2190 rows × 41 columns</p>\n",
       "</div>"
      ],
      "text/plain": [
       "      fiscal_year system_code location_code  \\\n",
       "0            2020      15K001          K001   \n",
       "1            2020      17K002          K002   \n",
       "2            2020      13K003          K003   \n",
       "3            2020      75K004          K004   \n",
       "4            2020      16K005          K005   \n",
       "...           ...         ...           ...   \n",
       "2185         2020      84X729          X729   \n",
       "2186         2020      84X730          X730   \n",
       "2187         2020      75X754          X754   \n",
       "2188         2020      75X811          X811   \n",
       "2189         2020      75X811          X811   \n",
       "\n",
       "                                location_name          BEDS Managed_by_name  \\\n",
       "0                         P.S. 001 The Bergen  331500010001             DOE   \n",
       "1                Parkside Preparatory Academy  331700010002             DOE   \n",
       "2                P.S. 003 The Bedford Village  331300010003             DOE   \n",
       "3                                   P.S. K004  307500013004             DOE   \n",
       "4                  P.S. 005 Dr. Ronald McNair  331600010005             DOE   \n",
       "...                                       ...           ...             ...   \n",
       "2185             Readnet Bronx Charter School  320700860842         Charter   \n",
       "2186        Bronx Charter School for the Arts  320800860846         Charter   \n",
       "2187  J. M. Rapport School Career Development  307500012754             DOE   \n",
       "2188                                P.S. X811  307500012811             DOE   \n",
       "2189                                P.S. X811  307500012811             DOE   \n",
       "\n",
       "     location_type_description    Location_Category_Description  \\\n",
       "0             General Academic                       Elementary   \n",
       "1             General Academic  Junior High-Intermediate-Middle   \n",
       "2             General Academic                       Elementary   \n",
       "3            Special Education                       Elementary   \n",
       "4             General Academic                       Elementary   \n",
       "...                        ...                              ...   \n",
       "2185          General Academic                       Elementary   \n",
       "2186          General Academic                       Elementary   \n",
       "2187         Special Education                      High school   \n",
       "2188         Special Education                 Secondary School   \n",
       "2189         Special Education                 Secondary School   \n",
       "\n",
       "                  Grades_text              Grades_final_text  ...  \\\n",
       "0     PK,0K,01,02,03,04,05,SE           PK,0K,01,02,03,04,05  ...   \n",
       "1                 06,07,08,SE                       06,07,08  ...   \n",
       "2     PK,0K,01,02,03,04,05,SE           PK,0K,01,02,03,04,05  ...   \n",
       "3     PK,0K,01,02,03,04,05,SE  PK,0K,01,02,03,04,05,06,07,SE  ...   \n",
       "4     PK,0K,01,02,03,04,05,SE           PK,0K,01,02,03,04,05  ...   \n",
       "...                       ...                            ...  ...   \n",
       "2185                    01,02                            NaN  ...   \n",
       "2186  0K,01,02,03,04,05,06,07     0K,01,02,03,04,05,06,07,08  ...   \n",
       "2187           09,10,11,12,SE                 09,10,11,12,SE  ...   \n",
       "2188        08,09,10,11,12,SE           07,08,09,10,11,12,SE  ...   \n",
       "2189        08,09,10,11,12,SE           07,08,09,10,11,12,SE  ...   \n",
       "\n",
       "      Administrative_District_Name community_school_sup_name  \\\n",
       "0     COMMUNITY SCHOOL DISTRICT 15               SKOP, ANITA   \n",
       "1     COMMUNITY SCHOOL DISTRICT 17           ELLIS, CLARENCE   \n",
       "2     COMMUNITY SCHOOL DISTRICT 13            SAMUELS, KAMAR   \n",
       "3       CITYWIDE SPECIAL EDUCATION        LOUISSAINT, KETLER   \n",
       "4     COMMUNITY SCHOOL DISTRICT 16           MARTIN, YOLANDA   \n",
       "...                            ...                       ...   \n",
       "2185     OFFICE OF CHARTER SCHOOLS                       NaN   \n",
       "2186     OFFICE OF CHARTER SCHOOLS                       NaN   \n",
       "2187    CITYWIDE SPECIAL EDUCATION        LOUISSAINT, KETLER   \n",
       "2188    CITYWIDE SPECIAL EDUCATION        LOUISSAINT, KETLER   \n",
       "2189    CITYWIDE SPECIAL EDUCATION        LOUISSAINT, KETLER   \n",
       "\n",
       "                Tier_3_Support_Location_Name Tier_3_Support_Leader_Name  \\\n",
       "0     NYCDOE Borough Office - Brooklyn North                        NaN   \n",
       "1     NYCDOE Borough Office - Brooklyn South        Mauriciere de Govia   \n",
       "2     NYCDOE Borough Office - Brooklyn North                        NaN   \n",
       "3                           D75 CITYWIDE BCO            Tillman Roberto   \n",
       "4     NYCDOE Borough Office - Brooklyn North                        NaN   \n",
       "...                                      ...                        ...   \n",
       "2185                                     NaN                        NaN   \n",
       "2186                                     NaN                        NaN   \n",
       "2187                        D75 CITYWIDE BCO            Tillman Roberto   \n",
       "2188                        D75 CITYWIDE BCO            Tillman Roberto   \n",
       "2189                        D75 CITYWIDE BCO            Tillman Roberto   \n",
       "\n",
       "               Tier_2_Support_Location_Name  HighSchool_Network_Location_Code  \\\n",
       "0     School Support Team 5- Brooklyn North                               NaN   \n",
       "1     School Support Team 2- Brooklyn South                               NaN   \n",
       "2     School Support Team 3- Brooklyn North                               NaN   \n",
       "3                Children First Network 752                               NaN   \n",
       "4     School Support Team 4- Brooklyn North                               NaN   \n",
       "...                                     ...                               ...   \n",
       "2185                                    NaN                               NaN   \n",
       "2186                                    NaN                               NaN   \n",
       "2187             Children First Network 755                               NaN   \n",
       "2188             Children First Network 755                               NaN   \n",
       "2189             Children First Network 755                               NaN   \n",
       "\n",
       "      HighSchool_Network_Name  HighSchool_Network_Superintendent  \\\n",
       "0                         NaN                                NaN   \n",
       "1                         NaN                                NaN   \n",
       "2                         NaN                                NaN   \n",
       "3                         NaN                                NaN   \n",
       "4                         NaN                                NaN   \n",
       "...                       ...                                ...   \n",
       "2185                      NaN                                NaN   \n",
       "2186                      NaN                                NaN   \n",
       "2187                      NaN                                NaN   \n",
       "2188                      NaN                                NaN   \n",
       "2189                      NaN                                NaN   \n",
       "\n",
       "      Community_district 1  Police_precinct  \n",
       "0                    307.0             72.0  \n",
       "1                    309.0             71.0  \n",
       "2                    303.0             79.0  \n",
       "3                    305.0             75.0  \n",
       "4                    303.0             81.0  \n",
       "...                    ...              ...  \n",
       "2185                 201.0             40.0  \n",
       "2186                 202.0             41.0  \n",
       "2187                 201.0             40.0  \n",
       "2188                 203.0             42.0  \n",
       "2189                 203.0             42.0  \n",
       "\n",
       "[2190 rows x 41 columns]"
      ]
     },
     "execution_count": 47,
     "metadata": {},
     "output_type": "execute_result"
    }
   ],
   "source": [
    "df_school_locs"
   ]
  },
  {
   "cell_type": "code",
   "execution_count": null,
   "metadata": {},
   "outputs": [],
   "source": [
    "#how many school buildings total"
   ]
  },
  {
   "cell_type": "code",
   "execution_count": 48,
   "metadata": {},
   "outputs": [
    {
     "data": {
      "text/plain": [
       "1340"
      ]
     },
     "execution_count": 48,
     "metadata": {},
     "output_type": "execute_result"
    }
   ],
   "source": [
    "len(df_school_locs['Primary_building_code'].unique())"
   ]
  },
  {
   "cell_type": "code",
   "execution_count": null,
   "metadata": {},
   "outputs": [],
   "source": [
    "#how many school buildings in the merge wih PLUTO? 97.8 percent "
   ]
  },
  {
   "cell_type": "code",
   "execution_count": 49,
   "metadata": {},
   "outputs": [
    {
     "data": {
      "text/plain": [
       "1311"
      ]
     },
     "execution_count": 49,
     "metadata": {},
     "output_type": "execute_result"
    }
   ],
   "source": [
    "df_pluto_selected.merge(df_school_locs, left_on='bbl',right_on='Borough_block_lot')['Primary_building_code'].nunique()"
   ]
  },
  {
   "cell_type": "code",
   "execution_count": null,
   "metadata": {},
   "outputs": [],
   "source": [
    "#save"
   ]
  },
  {
   "cell_type": "code",
   "execution_count": 51,
   "metadata": {},
   "outputs": [],
   "source": [
    "df_all_schools_years = df_pluto_selected.merge(df_school_locs, left_on='bbl',right_on='Borough_block_lot')"
   ]
  },
  {
   "cell_type": "code",
   "execution_count": 52,
   "metadata": {},
   "outputs": [],
   "source": [
    "df_all_schools_years.to_csv('all_schools_years.csv')"
   ]
  },
  {
   "cell_type": "code",
   "execution_count": null,
   "metadata": {},
   "outputs": [],
   "source": [
    "#distribution of years built for most of the schools in the database; red lines represent the different tenures of school building superintendents https://en.wikipedia.org/wiki/Superintendent_of_School_Buildings,_New_York_City"
   ]
  },
  {
   "cell_type": "code",
   "execution_count": 53,
   "metadata": {},
   "outputs": [
    {
     "data": {
      "text/plain": [
       "<matplotlib.lines.Line2D at 0x119ddf050>"
      ]
     },
     "execution_count": 53,
     "metadata": {},
     "output_type": "execute_result"
    },
    {
     "data": {
      "image/png": "[encoded data removed]",
      "text/plain": [
       "<Figure size 432x288 with 1 Axes>"
      ]
     },
     "metadata": {
      "needs_background": "light"
     },
     "output_type": "display_data"
    }
   ],
   "source": [
    "df_all_schools_years[df_all_schools_years['yearbuilt']!=0.0]['yearbuilt'].plot(kind='hist')\n",
    "plt.axvline(x=1891, color='r')\n",
    "plt.axvline(x=1923, color='r')\n",
    "plt.axvline(x=1927, color='r')\n",
    "plt.axvline(x=1938, color='r')\n",
    "plt.axvline(x=1950, color='orange')\n",
    "plt.axvline(x=1970, color='orange')\n",
    "plt.axvline(x=1980, color='orange')\n",
    "plt.axvline(x=1992, color='green')"
   ]
  },
  {
   "cell_type": "code",
   "execution_count": 54,
   "metadata": {},
   "outputs": [],
   "source": [
    "#red shows tenures of the school superintendents; orange is rough estimates; green is the passage of the ADA"
   ]
  },
  {
   "cell_type": "code",
   "execution_count": 55,
   "metadata": {},
   "outputs": [],
   "source": [
    "#year built distribution for most rated schools "
   ]
  },
  {
   "cell_type": "code",
   "execution_count": 56,
   "metadata": {},
   "outputs": [
    {
     "data": {
      "text/plain": [
       "<matplotlib.lines.Line2D at 0x11a72e9d0>"
      ]
     },
     "execution_count": 56,
     "metadata": {},
     "output_type": "execute_result"
    },
    {
     "data": {
      "image/png": "[encoded data removed]",
      "text/plain": [
       "<Figure size 432x288 with 1 Axes>"
      ]
     },
     "metadata": {
      "needs_background": "light"
     },
     "output_type": "display_data"
    }
   ],
   "source": [
    "df_real[df_real['yearbuilt']!=0.0]['yearbuilt'].plot(kind='hist')\n",
    "plt.axvline(x=1891, color='r')\n",
    "plt.axvline(x=1923, color='r')\n",
    "plt.axvline(x=1927, color='r')\n",
    "plt.axvline(x=1938, color='r')\n",
    "plt.axvline(x=1950, color='orange')\n",
    "plt.axvline(x=1970, color='orange')\n",
    "plt.axvline(x=1980, color='orange')\n",
    "plt.axvline(x=1992, color='green')"
   ]
  },
  {
   "cell_type": "markdown",
   "metadata": {},
   "source": [
    "# Missing values: investigating the 17"
   ]
  },
  {
   "cell_type": "markdown",
   "metadata": {},
   "source": [
    "The 15"
   ]
  },
  {
   "cell_type": "code",
   "execution_count": 66,
   "metadata": {},
   "outputs": [],
   "source": [
    "df_union = df_rated_schools.merge(df_final, left_on='Building Code', right_on='Primary_building_code', how='outer')"
   ]
  },
  {
   "cell_type": "code",
   "execution_count": 67,
   "metadata": {},
   "outputs": [
    {
     "data": {
      "text/html": [
       "<div>\n",
       "<style scoped>\n",
       "    .dataframe tbody tr th:only-of-type {\n",
       "        vertical-align: middle;\n",
       "    }\n",
       "\n",
       "    .dataframe tbody tr th {\n",
       "        vertical-align: top;\n",
       "    }\n",
       "\n",
       "    .dataframe thead th {\n",
       "        text-align: right;\n",
       "    }\n",
       "</style>\n",
       "<table border=\"1\" class=\"dataframe\">\n",
       "  <thead>\n",
       "    <tr style=\"text-align: right;\">\n",
       "      <th></th>\n",
       "      <th>Building Code</th>\n",
       "      <th>Lat</th>\n",
       "      <th>Lng</th>\n",
       "      <th>Rating</th>\n",
       "      <th>Primary_building_code</th>\n",
       "      <th>Borough_block_lot</th>\n",
       "    </tr>\n",
       "  </thead>\n",
       "  <tbody>\n",
       "    <tr>\n",
       "      <td>0</td>\n",
       "      <td>X040</td>\n",
       "      <td>40.809141</td>\n",
       "      <td>-73.920138</td>\n",
       "      <td>1.0</td>\n",
       "      <td>X040</td>\n",
       "      <td>2.022840e+09</td>\n",
       "    </tr>\n",
       "    <tr>\n",
       "      <td>1</td>\n",
       "      <td>X040</td>\n",
       "      <td>40.809141</td>\n",
       "      <td>-73.920138</td>\n",
       "      <td>1.0</td>\n",
       "      <td>X040</td>\n",
       "      <td>2.022840e+09</td>\n",
       "    </tr>\n",
       "    <tr>\n",
       "      <td>2</td>\n",
       "      <td>X040</td>\n",
       "      <td>40.809141</td>\n",
       "      <td>-73.920138</td>\n",
       "      <td>1.0</td>\n",
       "      <td>X040</td>\n",
       "      <td>2.022840e+09</td>\n",
       "    </tr>\n",
       "    <tr>\n",
       "      <td>3</td>\n",
       "      <td>X065</td>\n",
       "      <td>40.807662</td>\n",
       "      <td>-73.912743</td>\n",
       "      <td>6.0</td>\n",
       "      <td>X065</td>\n",
       "      <td>2.025710e+09</td>\n",
       "    </tr>\n",
       "    <tr>\n",
       "      <td>4</td>\n",
       "      <td>X065</td>\n",
       "      <td>40.807662</td>\n",
       "      <td>-73.912743</td>\n",
       "      <td>6.0</td>\n",
       "      <td>X065</td>\n",
       "      <td>2.025710e+09</td>\n",
       "    </tr>\n",
       "    <tr>\n",
       "      <td>...</td>\n",
       "      <td>...</td>\n",
       "      <td>...</td>\n",
       "      <td>...</td>\n",
       "      <td>...</td>\n",
       "      <td>...</td>\n",
       "      <td>...</td>\n",
       "    </tr>\n",
       "    <tr>\n",
       "      <td>1905</td>\n",
       "      <td>NaN</td>\n",
       "      <td>NaN</td>\n",
       "      <td>NaN</td>\n",
       "      <td>NaN</td>\n",
       "      <td>XBBZ</td>\n",
       "      <td>2.026090e+09</td>\n",
       "    </tr>\n",
       "    <tr>\n",
       "      <td>1906</td>\n",
       "      <td>NaN</td>\n",
       "      <td>NaN</td>\n",
       "      <td>NaN</td>\n",
       "      <td>NaN</td>\n",
       "      <td>XBCA</td>\n",
       "      <td>2.023480e+09</td>\n",
       "    </tr>\n",
       "    <tr>\n",
       "      <td>1907</td>\n",
       "      <td>NaN</td>\n",
       "      <td>NaN</td>\n",
       "      <td>NaN</td>\n",
       "      <td>NaN</td>\n",
       "      <td>XBPP</td>\n",
       "      <td>2.025740e+09</td>\n",
       "    </tr>\n",
       "    <tr>\n",
       "      <td>1908</td>\n",
       "      <td>NaN</td>\n",
       "      <td>NaN</td>\n",
       "      <td>NaN</td>\n",
       "      <td>NaN</td>\n",
       "      <td>XBPS</td>\n",
       "      <td>2.027610e+09</td>\n",
       "    </tr>\n",
       "    <tr>\n",
       "      <td>1909</td>\n",
       "      <td>NaN</td>\n",
       "      <td>NaN</td>\n",
       "      <td>NaN</td>\n",
       "      <td>NaN</td>\n",
       "      <td>XBPV</td>\n",
       "      <td>2.035620e+09</td>\n",
       "    </tr>\n",
       "  </tbody>\n",
       "</table>\n",
       "<p>1910 rows × 6 columns</p>\n",
       "</div>"
      ],
      "text/plain": [
       "     Building Code        Lat        Lng  Rating Primary_building_code  \\\n",
       "0             X040  40.809141 -73.920138     1.0                  X040   \n",
       "1             X040  40.809141 -73.920138     1.0                  X040   \n",
       "2             X040  40.809141 -73.920138     1.0                  X040   \n",
       "3             X065  40.807662 -73.912743     6.0                  X065   \n",
       "4             X065  40.807662 -73.912743     6.0                  X065   \n",
       "...            ...        ...        ...     ...                   ...   \n",
       "1905           NaN        NaN        NaN     NaN                  XBBZ   \n",
       "1906           NaN        NaN        NaN     NaN                  XBCA   \n",
       "1907           NaN        NaN        NaN     NaN                  XBPP   \n",
       "1908           NaN        NaN        NaN     NaN                  XBPS   \n",
       "1909           NaN        NaN        NaN     NaN                  XBPV   \n",
       "\n",
       "      Borough_block_lot  \n",
       "0          2.022840e+09  \n",
       "1          2.022840e+09  \n",
       "2          2.022840e+09  \n",
       "3          2.025710e+09  \n",
       "4          2.025710e+09  \n",
       "...                 ...  \n",
       "1905       2.026090e+09  \n",
       "1906       2.023480e+09  \n",
       "1907       2.025740e+09  \n",
       "1908       2.027610e+09  \n",
       "1909       2.035620e+09  \n",
       "\n",
       "[1910 rows x 6 columns]"
      ]
     },
     "execution_count": 67,
     "metadata": {},
     "output_type": "execute_result"
    }
   ],
   "source": [
    "df_union - df"
   ]
  },
  {
   "cell_type": "markdown",
   "metadata": {},
   "source": [
    "The 2"
   ]
  },
  {
   "cell_type": "code",
   "execution_count": null,
   "metadata": {},
   "outputs": [],
   "source": []
  }
 ],
 "metadata": {
  "kernelspec": {
   "display_name": "Python 3",
   "language": "python",
   "name": "python3"
  },
  "language_info": {
   "codemirror_mode": {
    "name": "ipython",
    "version": 3
   },
   "file_extension": ".py",
   "mimetype": "text/x-python",
   "name": "python",
   "nbconvert_exporter": "python",
   "pygments_lexer": "ipython3",
   "version": "3.7.5"
  }
 },
 "nbformat": 4,
 "nbformat_minor": 2
}
