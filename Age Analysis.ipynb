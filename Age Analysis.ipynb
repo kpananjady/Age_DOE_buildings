{
 "cells": [
  {
   "cell_type": "markdown",
   "metadata": {},
   "source": [
    "# What this file does"
   ]
  },
  {
   "cell_type": "markdown",
   "metadata": {},
   "source": [
    "I take the file I generated in Merges and Wrangling.ipynb and examine the relationship between building age and accessibility. This might explain the fact that Queens has superior accessibility, a trend discovered in Accessibility in NYC Schools.ipynb. (https://github.com/kpananjady/Accessibility-NYC-Schools/blob/master/Accessibility%20in%20NYC%20schools.ipynb)"
   ]
  },
  {
   "cell_type": "markdown",
   "metadata": {},
   "source": [
    "# Findings"
   ]
  },
  {
   "cell_type": "markdown",
   "metadata": {},
   "source": [
    "Queens has the most buildings built after 1992 of all the boroughs in the dataset of rated schools. I also see a correlation of sorts between building age and rating — the more recent the building, the less likely it is to score low on the accessibility scale. "
   ]
  },
  {
   "cell_type": "code",
   "execution_count": 1,
   "metadata": {},
   "outputs": [],
   "source": [
    "import pandas as pd\n",
    "import matplotlib.pyplot as plt\n",
    "import numpy as np\n",
    "from sklearn.linear_model import LinearRegression\n",
    "import statsmodels.api as sm \n",
    "import matplotlib.pyplot as plt "
   ]
  },
  {
   "cell_type": "markdown",
   "metadata": {},
   "source": [
    "# How many rated buildings were built in or after 1992 by borough?"
   ]
  },
  {
   "cell_type": "code",
   "execution_count": 6,
   "metadata": {},
   "outputs": [],
   "source": [
    "df_rated_schools = pd.read_csv('year_built_school.csv')"
   ]
  },
  {
   "cell_type": "code",
   "execution_count": 7,
   "metadata": {},
   "outputs": [
    {
     "data": {
      "text/html": [
       "<div>\n",
       "<style scoped>\n",
       "    .dataframe tbody tr th:only-of-type {\n",
       "        vertical-align: middle;\n",
       "    }\n",
       "\n",
       "    .dataframe tbody tr th {\n",
       "        vertical-align: top;\n",
       "    }\n",
       "\n",
       "    .dataframe thead th {\n",
       "        text-align: right;\n",
       "    }\n",
       "</style>\n",
       "<table border=\"1\" class=\"dataframe\">\n",
       "  <thead>\n",
       "    <tr style=\"text-align: right;\">\n",
       "      <th></th>\n",
       "      <th>Unnamed: 0</th>\n",
       "      <th>landmark</th>\n",
       "      <th>bbl</th>\n",
       "      <th>yearbuilt</th>\n",
       "      <th>yearalter1</th>\n",
       "      <th>yearalter2</th>\n",
       "      <th>histdist</th>\n",
       "      <th>xcoord</th>\n",
       "      <th>ycoord</th>\n",
       "      <th>Building Code</th>\n",
       "      <th>Lat</th>\n",
       "      <th>Lng</th>\n",
       "      <th>Rating</th>\n",
       "      <th>Primary_building_code</th>\n",
       "      <th>Borough_block_lot</th>\n",
       "    </tr>\n",
       "  </thead>\n",
       "  <tbody>\n",
       "    <tr>\n",
       "      <td>0</td>\n",
       "      <td>0</td>\n",
       "      <td>NaN</td>\n",
       "      <td>1019330020</td>\n",
       "      <td>2011.0</td>\n",
       "      <td>0.0</td>\n",
       "      <td>0.0</td>\n",
       "      <td>NaN</td>\n",
       "      <td>998598.0</td>\n",
       "      <td>235315.0</td>\n",
       "      <td>M908</td>\n",
       "      <td>40.812380</td>\n",
       "      <td>-73.948014</td>\n",
       "      <td>10.0</td>\n",
       "      <td>M908</td>\n",
       "      <td>1.019330e+09</td>\n",
       "    </tr>\n",
       "    <tr>\n",
       "      <td>1</td>\n",
       "      <td>1</td>\n",
       "      <td>NaN</td>\n",
       "      <td>1017680021</td>\n",
       "      <td>1960.0</td>\n",
       "      <td>0.0</td>\n",
       "      <td>0.0</td>\n",
       "      <td>NaN</td>\n",
       "      <td>1001034.0</td>\n",
       "      <td>230970.0</td>\n",
       "      <td>M007</td>\n",
       "      <td>40.800773</td>\n",
       "      <td>-73.939335</td>\n",
       "      <td>9.0</td>\n",
       "      <td>M007</td>\n",
       "      <td>1.017680e+09</td>\n",
       "    </tr>\n",
       "    <tr>\n",
       "      <td>2</td>\n",
       "      <td>2</td>\n",
       "      <td>NaN</td>\n",
       "      <td>3017590013</td>\n",
       "      <td>1965.0</td>\n",
       "      <td>0.0</td>\n",
       "      <td>0.0</td>\n",
       "      <td>NaN</td>\n",
       "      <td>998848.0</td>\n",
       "      <td>192283.0</td>\n",
       "      <td>K023</td>\n",
       "      <td>40.694468</td>\n",
       "      <td>-73.947407</td>\n",
       "      <td>3.0</td>\n",
       "      <td>K023</td>\n",
       "      <td>3.017590e+09</td>\n",
       "    </tr>\n",
       "    <tr>\n",
       "      <td>3</td>\n",
       "      <td>3</td>\n",
       "      <td>NaN</td>\n",
       "      <td>3017590013</td>\n",
       "      <td>1965.0</td>\n",
       "      <td>0.0</td>\n",
       "      <td>0.0</td>\n",
       "      <td>NaN</td>\n",
       "      <td>998848.0</td>\n",
       "      <td>192283.0</td>\n",
       "      <td>K023</td>\n",
       "      <td>40.694468</td>\n",
       "      <td>-73.947407</td>\n",
       "      <td>3.0</td>\n",
       "      <td>K023</td>\n",
       "      <td>3.017590e+09</td>\n",
       "    </tr>\n",
       "    <tr>\n",
       "      <td>4</td>\n",
       "      <td>4</td>\n",
       "      <td>NaN</td>\n",
       "      <td>3047390001</td>\n",
       "      <td>1939.0</td>\n",
       "      <td>2014.0</td>\n",
       "      <td>0.0</td>\n",
       "      <td>NaN</td>\n",
       "      <td>1004897.0</td>\n",
       "      <td>175315.0</td>\n",
       "      <td>K244</td>\n",
       "      <td>40.647919</td>\n",
       "      <td>-73.925465</td>\n",
       "      <td>9.0</td>\n",
       "      <td>K244</td>\n",
       "      <td>3.047390e+09</td>\n",
       "    </tr>\n",
       "    <tr>\n",
       "      <td>...</td>\n",
       "      <td>...</td>\n",
       "      <td>...</td>\n",
       "      <td>...</td>\n",
       "      <td>...</td>\n",
       "      <td>...</td>\n",
       "      <td>...</td>\n",
       "      <td>...</td>\n",
       "      <td>...</td>\n",
       "      <td>...</td>\n",
       "      <td>...</td>\n",
       "      <td>...</td>\n",
       "      <td>...</td>\n",
       "      <td>...</td>\n",
       "      <td>...</td>\n",
       "      <td>...</td>\n",
       "    </tr>\n",
       "    <tr>\n",
       "      <td>1175</td>\n",
       "      <td>1175</td>\n",
       "      <td>NaN</td>\n",
       "      <td>1008897501</td>\n",
       "      <td>1977.0</td>\n",
       "      <td>0.0</td>\n",
       "      <td>0.0</td>\n",
       "      <td>NaN</td>\n",
       "      <td>989494.0</td>\n",
       "      <td>211251.0</td>\n",
       "      <td>M620</td>\n",
       "      <td>40.746441</td>\n",
       "      <td>-73.981211</td>\n",
       "      <td>3.0</td>\n",
       "      <td>M620</td>\n",
       "      <td>1.008898e+09</td>\n",
       "    </tr>\n",
       "    <tr>\n",
       "      <td>1176</td>\n",
       "      <td>1176</td>\n",
       "      <td>NaN</td>\n",
       "      <td>4012600001</td>\n",
       "      <td>1998.0</td>\n",
       "      <td>0.0</td>\n",
       "      <td>0.0</td>\n",
       "      <td>NaN</td>\n",
       "      <td>1013928.0</td>\n",
       "      <td>213493.0</td>\n",
       "      <td>Q230</td>\n",
       "      <td>40.752640</td>\n",
       "      <td>-73.892841</td>\n",
       "      <td>10.0</td>\n",
       "      <td>Q230</td>\n",
       "      <td>4.012600e+09</td>\n",
       "    </tr>\n",
       "    <tr>\n",
       "      <td>1177</td>\n",
       "      <td>1177</td>\n",
       "      <td>NaN</td>\n",
       "      <td>4096840008</td>\n",
       "      <td>1931.0</td>\n",
       "      <td>2011.0</td>\n",
       "      <td>0.0</td>\n",
       "      <td>NaN</td>\n",
       "      <td>1036320.0</td>\n",
       "      <td>195780.0</td>\n",
       "      <td>Q082</td>\n",
       "      <td>40.704077</td>\n",
       "      <td>-73.812200</td>\n",
       "      <td>9.0</td>\n",
       "      <td>Q082</td>\n",
       "      <td>4.096840e+09</td>\n",
       "    </tr>\n",
       "    <tr>\n",
       "      <td>1178</td>\n",
       "      <td>1178</td>\n",
       "      <td>NaN</td>\n",
       "      <td>3063990040</td>\n",
       "      <td>2012.0</td>\n",
       "      <td>0.0</td>\n",
       "      <td>0.0</td>\n",
       "      <td>NaN</td>\n",
       "      <td>982136.0</td>\n",
       "      <td>160277.0</td>\n",
       "      <td>K807</td>\n",
       "      <td>40.606728</td>\n",
       "      <td>-74.007703</td>\n",
       "      <td>10.0</td>\n",
       "      <td>K807</td>\n",
       "      <td>3.063990e+09</td>\n",
       "    </tr>\n",
       "    <tr>\n",
       "      <td>1179</td>\n",
       "      <td>1179</td>\n",
       "      <td>NaN</td>\n",
       "      <td>3063990040</td>\n",
       "      <td>2012.0</td>\n",
       "      <td>0.0</td>\n",
       "      <td>0.0</td>\n",
       "      <td>NaN</td>\n",
       "      <td>982136.0</td>\n",
       "      <td>160277.0</td>\n",
       "      <td>K807</td>\n",
       "      <td>40.606728</td>\n",
       "      <td>-74.007703</td>\n",
       "      <td>10.0</td>\n",
       "      <td>K807</td>\n",
       "      <td>3.063990e+09</td>\n",
       "    </tr>\n",
       "  </tbody>\n",
       "</table>\n",
       "<p>1180 rows × 15 columns</p>\n",
       "</div>"
      ],
      "text/plain": [
       "      Unnamed: 0 landmark         bbl  yearbuilt  yearalter1  yearalter2  \\\n",
       "0              0      NaN  1019330020     2011.0         0.0         0.0   \n",
       "1              1      NaN  1017680021     1960.0         0.0         0.0   \n",
       "2              2      NaN  3017590013     1965.0         0.0         0.0   \n",
       "3              3      NaN  3017590013     1965.0         0.0         0.0   \n",
       "4              4      NaN  3047390001     1939.0      2014.0         0.0   \n",
       "...          ...      ...         ...        ...         ...         ...   \n",
       "1175        1175      NaN  1008897501     1977.0         0.0         0.0   \n",
       "1176        1176      NaN  4012600001     1998.0         0.0         0.0   \n",
       "1177        1177      NaN  4096840008     1931.0      2011.0         0.0   \n",
       "1178        1178      NaN  3063990040     2012.0         0.0         0.0   \n",
       "1179        1179      NaN  3063990040     2012.0         0.0         0.0   \n",
       "\n",
       "     histdist     xcoord    ycoord Building Code        Lat        Lng  \\\n",
       "0         NaN   998598.0  235315.0          M908  40.812380 -73.948014   \n",
       "1         NaN  1001034.0  230970.0          M007  40.800773 -73.939335   \n",
       "2         NaN   998848.0  192283.0          K023  40.694468 -73.947407   \n",
       "3         NaN   998848.0  192283.0          K023  40.694468 -73.947407   \n",
       "4         NaN  1004897.0  175315.0          K244  40.647919 -73.925465   \n",
       "...       ...        ...       ...           ...        ...        ...   \n",
       "1175      NaN   989494.0  211251.0          M620  40.746441 -73.981211   \n",
       "1176      NaN  1013928.0  213493.0          Q230  40.752640 -73.892841   \n",
       "1177      NaN  1036320.0  195780.0          Q082  40.704077 -73.812200   \n",
       "1178      NaN   982136.0  160277.0          K807  40.606728 -74.007703   \n",
       "1179      NaN   982136.0  160277.0          K807  40.606728 -74.007703   \n",
       "\n",
       "      Rating Primary_building_code  Borough_block_lot  \n",
       "0       10.0                  M908       1.019330e+09  \n",
       "1        9.0                  M007       1.017680e+09  \n",
       "2        3.0                  K023       3.017590e+09  \n",
       "3        3.0                  K023       3.017590e+09  \n",
       "4        9.0                  K244       3.047390e+09  \n",
       "...      ...                   ...                ...  \n",
       "1175     3.0                  M620       1.008898e+09  \n",
       "1176    10.0                  Q230       4.012600e+09  \n",
       "1177     9.0                  Q082       4.096840e+09  \n",
       "1178    10.0                  K807       3.063990e+09  \n",
       "1179    10.0                  K807       3.063990e+09  \n",
       "\n",
       "[1180 rows x 15 columns]"
      ]
     },
     "execution_count": 7,
     "metadata": {},
     "output_type": "execute_result"
    }
   ],
   "source": [
    "df_rated_schools"
   ]
  },
  {
   "cell_type": "code",
   "execution_count": 8,
   "metadata": {},
   "outputs": [
    {
     "data": {
      "text/plain": [
       "Unnamed: 0                 int64\n",
       "landmark                  object\n",
       "bbl                        int64\n",
       "yearbuilt                float64\n",
       "yearalter1               float64\n",
       "yearalter2               float64\n",
       "histdist                  object\n",
       "xcoord                   float64\n",
       "ycoord                   float64\n",
       "Building Code             object\n",
       "Lat                      float64\n",
       "Lng                      float64\n",
       "Rating                   float64\n",
       "Primary_building_code     object\n",
       "Borough_block_lot        float64\n",
       "dtype: object"
      ]
     },
     "execution_count": 8,
     "metadata": {},
     "output_type": "execute_result"
    }
   ],
   "source": [
    "df_rated_schools.dtypes"
   ]
  },
  {
   "cell_type": "code",
   "execution_count": 9,
   "metadata": {},
   "outputs": [],
   "source": [
    "#use regular expressions to get the borough out"
   ]
  },
  {
   "cell_type": "code",
   "execution_count": 11,
   "metadata": {},
   "outputs": [],
   "source": [
    "df_rated_schools['Borough']= df_rated_schools['Borough_block_lot'].astype(str).str.extract(r'(^.)')"
   ]
  },
  {
   "cell_type": "code",
   "execution_count": null,
   "metadata": {},
   "outputs": [],
   "source": [
    "#no of rated schools by borough"
   ]
  },
  {
   "cell_type": "code",
   "execution_count": 12,
   "metadata": {},
   "outputs": [
    {
     "data": {
      "text/plain": [
       "3    315\n",
       "4    285\n",
       "2    269\n",
       "1    247\n",
       "5     64\n",
       "Name: Borough, dtype: int64"
      ]
     },
     "execution_count": 12,
     "metadata": {},
     "output_type": "execute_result"
    }
   ],
   "source": [
    "df_rated_schools['Borough'].value_counts()"
   ]
  },
  {
   "cell_type": "code",
   "execution_count": 13,
   "metadata": {},
   "outputs": [],
   "source": [
    "#Queens leads by quite a way! This could explain why Queens leads the pack"
   ]
  },
  {
   "cell_type": "code",
   "execution_count": 14,
   "metadata": {},
   "outputs": [
    {
     "data": {
      "text/plain": [
       "4    88\n",
       "3    51\n",
       "2    44\n",
       "1    32\n",
       "5    14\n",
       "Name: Borough, dtype: int64"
      ]
     },
     "execution_count": 14,
     "metadata": {},
     "output_type": "execute_result"
    }
   ],
   "source": [
    "df_rated_schools[df_rated_schools['yearbuilt']>=1992]['Borough'].value_counts()"
   ]
  },
  {
   "cell_type": "markdown",
   "metadata": {},
   "source": [
    "# Age distribution of rated schools by borough"
   ]
  },
  {
   "cell_type": "markdown",
   "metadata": {},
   "source": [
    "Queens"
   ]
  },
  {
   "cell_type": "code",
   "execution_count": 15,
   "metadata": {},
   "outputs": [
    {
     "data": {
      "text/plain": [
       "<matplotlib.axes._subplots.AxesSubplot at 0x105397190>"
      ]
     },
     "execution_count": 15,
     "metadata": {},
     "output_type": "execute_result"
    },
    {
     "data": {
      "image/png": "[encoded data removed]",
      "text/plain": [
       "<Figure size 432x288 with 1 Axes>"
      ]
     },
     "metadata": {
      "needs_background": "light"
     },
     "output_type": "display_data"
    }
   ],
   "source": [
    "df_rated_schools[df_rated_schools['Borough']=='4']['yearbuilt'].plot(kind='hist')"
   ]
  },
  {
   "cell_type": "code",
   "execution_count": 16,
   "metadata": {},
   "outputs": [
    {
     "data": {
      "text/plain": [
       "<matplotlib.axes._subplots.AxesSubplot at 0x11b405c90>"
      ]
     },
     "execution_count": 16,
     "metadata": {},
     "output_type": "execute_result"
    },
    {
     "data": {
      "image/png": "[encoded data removed]",
      "text/plain": [
       "<Figure size 432x288 with 1 Axes>"
      ]
     },
     "metadata": {
      "needs_background": "light"
     },
     "output_type": "display_data"
    }
   ],
   "source": [
    "df_rated_schools[df_rated_schools['Borough']=='5']['yearbuilt'].plot(kind='hist')"
   ]
  },
  {
   "cell_type": "code",
   "execution_count": 17,
   "metadata": {},
   "outputs": [
    {
     "data": {
      "text/plain": [
       "<matplotlib.axes._subplots.AxesSubplot at 0x11d5fd390>"
      ]
     },
     "execution_count": 17,
     "metadata": {},
     "output_type": "execute_result"
    },
    {
     "data": {
      "image/png": "[encoded data removed]",
      "text/plain": [
       "<Figure size 432x288 with 1 Axes>"
      ]
     },
     "metadata": {
      "needs_background": "light"
     },
     "output_type": "display_data"
    }
   ],
   "source": [
    "df_rated_schools[df_rated_schools['Borough']=='3']['yearbuilt'].plot(kind='hist')"
   ]
  },
  {
   "cell_type": "code",
   "execution_count": 18,
   "metadata": {},
   "outputs": [
    {
     "data": {
      "text/plain": [
       "<matplotlib.axes._subplots.AxesSubplot at 0x11aa66450>"
      ]
     },
     "execution_count": 18,
     "metadata": {},
     "output_type": "execute_result"
    },
    {
     "data": {
      "image/png": "[encoded data removed]",
      "text/plain": [
       "<Figure size 432x288 with 1 Axes>"
      ]
     },
     "metadata": {
      "needs_background": "light"
     },
     "output_type": "display_data"
    }
   ],
   "source": [
    "df_rated_schools[df_rated_schools['Borough']=='2']['yearbuilt'].plot(kind='hist')"
   ]
  },
  {
   "cell_type": "code",
   "execution_count": 19,
   "metadata": {},
   "outputs": [
    {
     "data": {
      "text/plain": [
       "<matplotlib.axes._subplots.AxesSubplot at 0x11aac9790>"
      ]
     },
     "execution_count": 19,
     "metadata": {},
     "output_type": "execute_result"
    },
    {
     "data": {
      "image/png": "[encoded data removed]",
      "text/plain": [
       "<Figure size 432x288 with 1 Axes>"
      ]
     },
     "metadata": {
      "needs_background": "light"
     },
     "output_type": "display_data"
    }
   ],
   "source": [
    "df_rated_schools[df_rated_schools['Borough']=='2']['yearbuilt'].plot(kind='hist')"
   ]
  },
  {
   "cell_type": "code",
   "execution_count": 20,
   "metadata": {},
   "outputs": [
    {
     "data": {
      "text/plain": [
       "<matplotlib.axes._subplots.AxesSubplot at 0x11d755750>"
      ]
     },
     "execution_count": 20,
     "metadata": {},
     "output_type": "execute_result"
    },
    {
     "data": {
      "image/png": "[encoded data removed]",
      "text/plain": [
       "<Figure size 432x288 with 1 Axes>"
      ]
     },
     "metadata": {
      "needs_background": "light"
     },
     "output_type": "display_data"
    }
   ],
   "source": [
    "df_rated_schools[df_rated_schools['Borough']=='1']['yearbuilt'].plot(kind='hist')"
   ]
  },
  {
   "cell_type": "markdown",
   "metadata": {},
   "source": [
    "# Correlation"
   ]
  },
  {
   "cell_type": "code",
   "execution_count": 21,
   "metadata": {},
   "outputs": [],
   "source": [
    "#schools built after ADA don't score lower than 7"
   ]
  },
  {
   "cell_type": "code",
   "execution_count": 22,
   "metadata": {},
   "outputs": [
    {
     "data": {
      "text/plain": [
       "<matplotlib.lines.Line2D at 0x11d550810>"
      ]
     },
     "execution_count": 22,
     "metadata": {},
     "output_type": "execute_result"
    },
    {
     "data": {
      "image/png": "[encoded data removed]",
      "text/plain": [
       "<Figure size 432x288 with 1 Axes>"
      ]
     },
     "metadata": {
      "needs_background": "light"
     },
     "output_type": "display_data"
    }
   ],
   "source": [
    "df_rated_schools[df_rated_schools['yearbuilt']>0].plot(x='yearbuilt', y='Rating', kind='scatter')\n",
    "plt.axvline(x=1992, color='green')"
   ]
  },
  {
   "cell_type": "code",
   "execution_count": null,
   "metadata": {},
   "outputs": [],
   "source": [
    "#"
   ]
  }
 ],
 "metadata": {
  "kernelspec": {
   "display_name": "Python 3",
   "language": "python",
   "name": "python3"
  },
  "language_info": {
   "codemirror_mode": {
    "name": "ipython",
    "version": 3
   },
   "file_extension": ".py",
   "mimetype": "text/x-python",
   "name": "python",
   "nbconvert_exporter": "python",
   "pygments_lexer": "ipython3",
   "version": "3.7.5"
  }
 },
 "nbformat": 4,
 "nbformat_minor": 2
}
